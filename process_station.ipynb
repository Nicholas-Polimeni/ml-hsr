{
 "cells": [
  {
   "cell_type": "code",
   "execution_count": 1,
   "metadata": {},
   "outputs": [],
   "source": [
    "import os\n",
    "import pandas as pd\n",
    "import geopandas as gpd\n",
    "import matplotlib.pyplot as plt\n",
    "from deep_translator import GoogleTranslator\n",
    "import pinyin"
   ]
  },
  {
   "cell_type": "code",
   "execution_count": 2,
   "metadata": {},
   "outputs": [],
   "source": [
    "files = [file for file in os.listdir(\"Station_data\")]"
   ]
  },
  {
   "cell_type": "code",
   "execution_count": 3,
   "metadata": {},
   "outputs": [],
   "source": [
    "rows = []\n",
    "for file in files:\n",
    "    with open(\"./Station_Data/\" + file) as f:\n",
    "        lines = f.readlines()[1:]\n",
    "        lines = [line.split(\",\") for line in lines]\n",
    "        for line in lines:\n",
    "            rows.append((file, line[0], line[1].strip(\"\\n\")))"
   ]
  },
  {
   "cell_type": "code",
   "execution_count": 4,
   "metadata": {},
   "outputs": [],
   "source": [
    "ridership = pd.DataFrame(rows, columns=[\"station_1\", \"station_2\", \"trains\"])\n",
    "lines = gpd.read_file(\"./stations_geo/China_HSR_2016_lines.shp\")\n",
    "stations = gpd.read_file(\"./stations_geo/China_HSR_2016_stations.shp\")"
   ]
  },
  {
   "cell_type": "markdown",
   "metadata": {},
   "source": [
    "---"
   ]
  },
  {
   "cell_type": "code",
   "execution_count": 5,
   "metadata": {},
   "outputs": [],
   "source": [
    "strip_list = [\" Railway Station\"]\n",
    "end_strip_list = [\"bei\", \"xi\", \"nan\", \"dong\"]\n",
    "\n",
    "\n",
    "def strip_from_list(s: str):\n",
    "    for item in strip_list:\n",
    "        s = s.replace(item, \"\")\n",
    "\n",
    "    for item in end_strip_list:\n",
    "        if s[len(s) - len(item):] == item:\n",
    "            s = s[: len(s) - len(item)]\n",
    "\n",
    "    return s.lower()\n",
    "\n",
    "\n",
    "ridership[\"s1_strip\"] = ridership[\"station_1\"].apply(lambda x: strip_from_list(x))\n",
    "ridership[\"s2_strip\"] = ridership[\"station_2\"].apply(lambda x: strip_from_list(x))\n",
    "ridership[\"trains\"] = ridership[\"trains\"].astype(int)"
   ]
  },
  {
   "cell_type": "code",
   "execution_count": 6,
   "metadata": {},
   "outputs": [],
   "source": [
    "multi_stations = pd.DataFrame(ridership.groupby(by=[\"s1_strip\", \"s2_strip\"])[\"trains\"].sum()).reset_index()"
   ]
  },
  {
   "cell_type": "code",
   "execution_count": 7,
   "metadata": {},
   "outputs": [],
   "source": [
    "ridership = ridership.merge(multi_stations, on=[\"s1_strip\", \"s2_strip\"], how=\"left\")\n",
    "ridership = ridership.drop(columns=[\"trains_x\"]).rename(columns={\"trains_y\": \"trains\"})\n",
    "ridership = ridership.drop_duplicates(subset=[\"s1_strip\", \"s2_strip\"])\n",
    "# add dist\n",
    "# change city boundary to lower and fix names"
   ]
  },
  {
   "cell_type": "code",
   "execution_count": 8,
   "metadata": {},
   "outputs": [
    {
     "data": {
      "text/html": [
       "<div>\n",
       "<style scoped>\n",
       "    .dataframe tbody tr th:only-of-type {\n",
       "        vertical-align: middle;\n",
       "    }\n",
       "\n",
       "    .dataframe tbody tr th {\n",
       "        vertical-align: top;\n",
       "    }\n",
       "\n",
       "    .dataframe thead th {\n",
       "        text-align: right;\n",
       "    }\n",
       "</style>\n",
       "<table border=\"1\" class=\"dataframe\">\n",
       "  <thead>\n",
       "    <tr style=\"text-align: right;\">\n",
       "      <th></th>\n",
       "      <th>OBJECTID</th>\n",
       "      <th>NAME_ZH</th>\n",
       "      <th>speed_kph</th>\n",
       "      <th>line_name</th>\n",
       "      <th>KML_FOLDER</th>\n",
       "      <th>geometry</th>\n",
       "      <th>romanized</th>\n",
       "    </tr>\n",
       "  </thead>\n",
       "  <tbody>\n",
       "    <tr>\n",
       "      <th>0</th>\n",
       "      <td>1</td>\n",
       "      <td>华容</td>\n",
       "      <td>200</td>\n",
       "      <td>武九线/车站</td>\n",
       "      <td>200+ upgraded conventional/武九线/车站</td>\n",
       "      <td>POINT Z (114.73729 30.52040 0.00000)</td>\n",
       "      <td>huarong</td>\n",
       "    </tr>\n",
       "    <tr>\n",
       "      <th>1</th>\n",
       "      <td>2</td>\n",
       "      <td>黄石</td>\n",
       "      <td>200</td>\n",
       "      <td>武九线/车站</td>\n",
       "      <td>200+ upgraded conventional/武九线/车站</td>\n",
       "      <td>POINT Z (114.93489 30.15640 0.00000)</td>\n",
       "      <td>huangshi</td>\n",
       "    </tr>\n",
       "    <tr>\n",
       "      <th>2</th>\n",
       "      <td>3</td>\n",
       "      <td>阳新</td>\n",
       "      <td>200</td>\n",
       "      <td>武九线/车站</td>\n",
       "      <td>200+ upgraded conventional/武九线/车站</td>\n",
       "      <td>POINT Z (115.17481 29.86132 0.00000)</td>\n",
       "      <td>yangxin</td>\n",
       "    </tr>\n",
       "  </tbody>\n",
       "</table>\n",
       "</div>"
      ],
      "text/plain": [
       "   OBJECTID NAME_ZH  speed_kph line_name                         KML_FOLDER  \\\n",
       "0         1      华容        200    武九线/车站  200+ upgraded conventional/武九线/车站   \n",
       "1         2      黄石        200    武九线/车站  200+ upgraded conventional/武九线/车站   \n",
       "2         3      阳新        200    武九线/车站  200+ upgraded conventional/武九线/车站   \n",
       "\n",
       "                               geometry romanized  \n",
       "0  POINT Z (114.73729 30.52040 0.00000)   huarong  \n",
       "1  POINT Z (114.93489 30.15640 0.00000)  huangshi  \n",
       "2  POINT Z (115.17481 29.86132 0.00000)   yangxin  "
      ]
     },
     "execution_count": 8,
     "metadata": {},
     "output_type": "execute_result"
    }
   ],
   "source": [
    "stations[\"romanized\"] = stations[\"NAME_ZH\"].apply(\n",
    "    lambda x: pinyin.get(x, format=\"strip\")\n",
    ")\n",
    "stations[\"romanized\"] = stations[\"romanized\"].apply(lambda x: strip_from_list(x))\n",
    "stations.head(3)"
   ]
  },
  {
   "cell_type": "code",
   "execution_count": 9,
   "metadata": {},
   "outputs": [
    {
     "name": "stdout",
     "output_type": "stream",
     "text": [
      "222\n",
      "225\n"
     ]
    }
   ],
   "source": [
    "rider = set(ridership[\"s1_strip\"]).difference(set(stations[\"romanized\"]))\n",
    "print(len(rider))\n",
    "in_harvard = set(stations[\"romanized\"]).difference(set(ridership[\"s1_strip\"]))\n",
    "print(len(in_harvard))"
   ]
  },
  {
   "cell_type": "code",
   "execution_count": 10,
   "metadata": {},
   "outputs": [
    {
     "name": "stdout",
     "output_type": "stream",
     "text": [
      "11610\n"
     ]
    },
    {
     "data": {
      "text/plain": [
       "9551"
      ]
     },
     "execution_count": 10,
     "metadata": {},
     "output_type": "execute_result"
    }
   ],
   "source": [
    "stations_w_riders = ridership.merge(\n",
    "    stations[[\"geometry\", \"romanized\"]],\n",
    "    how=\"left\",\n",
    "    left_on=\"s1_strip\",\n",
    "    right_on=\"romanized\",\n",
    ").merge(\n",
    "    stations[[\"geometry\", \"romanized\"]],\n",
    "    how=\"left\",\n",
    "    left_on=\"s2_strip\",\n",
    "    right_on=\"romanized\",\n",
    ")\n",
    "\n",
    "print(len(stations_w_riders))\n",
    "\n",
    "stations_w_riders = stations_w_riders.dropna(subset=\"geometry_x\")\n",
    "stations_w_riders = stations_w_riders.dropna(subset=\"geometry_y\")\n",
    "len(stations_w_riders)"
   ]
  },
  {
   "cell_type": "code",
   "execution_count": 11,
   "metadata": {},
   "outputs": [],
   "source": [
    "stations_riders_geo = gpd.GeoDataFrame(stations_w_riders).set_geometry(\"geometry_x\")\n",
    "\n",
    "stations_riders_geo[\"geometry_x\"] = gpd.GeoSeries(\n",
    "    stations_riders_geo[\"geometry_x\"]\n",
    ").to_crs(\"epsg:3857\")\n",
    "\n",
    "stations_riders_geo[\"geometry_y\"] = gpd.GeoSeries(\n",
    "    stations_riders_geo[\"geometry_y\"]\n",
    ").to_crs(\"epsg:3857\")\n",
    "\n",
    "stations_riders_geo[\"dist\"] = stations_riders_geo[\"geometry_x\"].distance(\n",
    "    stations_riders_geo[\"geometry_y\"]\n",
    ")"
   ]
  },
  {
   "cell_type": "code",
   "execution_count": 26,
   "metadata": {},
   "outputs": [
    {
     "data": {
      "text/html": [
       "<div>\n",
       "<style scoped>\n",
       "    .dataframe tbody tr th:only-of-type {\n",
       "        vertical-align: middle;\n",
       "    }\n",
       "\n",
       "    .dataframe tbody tr th {\n",
       "        vertical-align: top;\n",
       "    }\n",
       "\n",
       "    .dataframe thead th {\n",
       "        text-align: right;\n",
       "    }\n",
       "</style>\n",
       "<table border=\"1\" class=\"dataframe\">\n",
       "  <thead>\n",
       "    <tr style=\"text-align: right;\">\n",
       "      <th></th>\n",
       "      <th>station_1</th>\n",
       "      <th>station_2</th>\n",
       "      <th>s1_strip</th>\n",
       "      <th>s2_strip</th>\n",
       "      <th>trains</th>\n",
       "      <th>geometry_x</th>\n",
       "      <th>city1</th>\n",
       "      <th>geometry_y</th>\n",
       "      <th>city2</th>\n",
       "      <th>dist</th>\n",
       "    </tr>\n",
       "  </thead>\n",
       "  <tbody>\n",
       "    <tr>\n",
       "      <th>8125</th>\n",
       "      <td>Shijiazhuang Railway Station</td>\n",
       "      <td>Shanghaihongqiao Railway Station</td>\n",
       "      <td>shijiazhuang</td>\n",
       "      <td>shanghaihongqiao</td>\n",
       "      <td>221</td>\n",
       "      <td>POINT Z (12730413.080 4589844.596 0.000)</td>\n",
       "      <td>shijiazhuang</td>\n",
       "      <td>POINT Z (13504866.490 3658229.254 0.000)</td>\n",
       "      <td>shanghaihongqiao</td>\n",
       "      <td>1.211481</td>\n",
       "    </tr>\n",
       "    <tr>\n",
       "      <th>6497</th>\n",
       "      <td>Pingxiangbei Railway Station</td>\n",
       "      <td>Fuzhou Railway Station</td>\n",
       "      <td>pingxiang</td>\n",
       "      <td>fuzhou</td>\n",
       "      <td>31</td>\n",
       "      <td>POINT Z (12672854.380 3209679.823 0.000)</td>\n",
       "      <td>pingxiang</td>\n",
       "      <td>POINT Z (13289947.023 2997697.756 0.000)</td>\n",
       "      <td>fuzhou</td>\n",
       "      <td>0.652487</td>\n",
       "    </tr>\n",
       "    <tr>\n",
       "      <th>4701</th>\n",
       "      <td>Jinanxi Railway Station</td>\n",
       "      <td>Dalianbei Railway Station</td>\n",
       "      <td>ji</td>\n",
       "      <td>dalian</td>\n",
       "      <td>82</td>\n",
       "      <td>POINT Z (13011676.230 4393063.670 0.000)</td>\n",
       "      <td>ji</td>\n",
       "      <td>POINT Z (13539553.718 4710480.937 0.000)</td>\n",
       "      <td>dalian</td>\n",
       "      <td>0.615961</td>\n",
       "    </tr>\n",
       "  </tbody>\n",
       "</table>\n",
       "</div>"
      ],
      "text/plain": [
       "                         station_1                         station_2  \\\n",
       "8125  Shijiazhuang Railway Station  Shanghaihongqiao Railway Station   \n",
       "6497  Pingxiangbei Railway Station            Fuzhou Railway Station   \n",
       "4701       Jinanxi Railway Station         Dalianbei Railway Station   \n",
       "\n",
       "          s1_strip          s2_strip  trains  \\\n",
       "8125  shijiazhuang  shanghaihongqiao     221   \n",
       "6497     pingxiang            fuzhou      31   \n",
       "4701            ji            dalian      82   \n",
       "\n",
       "                                    geometry_x         city1  \\\n",
       "8125  POINT Z (12730413.080 4589844.596 0.000)  shijiazhuang   \n",
       "6497  POINT Z (12672854.380 3209679.823 0.000)     pingxiang   \n",
       "4701  POINT Z (13011676.230 4393063.670 0.000)            ji   \n",
       "\n",
       "                                    geometry_y             city2      dist  \n",
       "8125  POINT Z (13504866.490 3658229.254 0.000)  shanghaihongqiao  1.211481  \n",
       "6497  POINT Z (13289947.023 2997697.756 0.000)            fuzhou  0.652487  \n",
       "4701  POINT Z (13539553.718 4710480.937 0.000)            dalian  0.615961  "
      ]
     },
     "execution_count": 26,
     "metadata": {},
     "output_type": "execute_result"
    }
   ],
   "source": [
    "stations_riders_geo = stations_riders_geo.rename(\n",
    "    columns={\n",
    "        \"romanized_x\": \"city1\",\n",
    "        \"romanized_y\": \"city2\",\n",
    "    }\n",
    ")\n",
    "stations_riders_geo[\"dist\"] = stations_riders_geo[\"dist\"] / 1000\n",
    "stations_riders_geo.sample(3)"
   ]
  },
  {
   "cell_type": "code",
   "execution_count": 27,
   "metadata": {},
   "outputs": [],
   "source": [
    "stations_riders_geo.to_parquet(\"./data/china_city_riders.parquet\", index=False)\n",
    "stations_riders_geo.to_csv(\"./data/china_city_riders.csv\", index=False)"
   ]
  },
  {
   "cell_type": "code",
   "execution_count": 19,
   "metadata": {},
   "outputs": [],
   "source": [
    "metros = pd.read_parquet(\"./data/metro_regions.parquet\")\n",
    "metros[\"metro\"] = metros[\"metro\"].str.lower()"
   ]
  },
  {
   "cell_type": "code",
   "execution_count": 20,
   "metadata": {},
   "outputs": [
    {
     "data": {
      "text/plain": [
       "<Axes: >"
      ]
     },
     "execution_count": 20,
     "metadata": {},
     "output_type": "execute_result"
    },
    {
     "data": {
      "image/png": "[encoded data removed]",
      "text/plain": [
       "<Figure size 800x800 with 1 Axes>"
      ]
     },
     "metadata": {},
     "output_type": "display_data"
    }
   ],
   "source": [
    "fig, ax = plt.subplots(figsize=(8,8))\n",
    "lines.plot(ax=ax, color=\"purple\", markersize=0.01, alpha=0.2)\n",
    "stations.plot(ax=ax, markersize=1)\n",
    "stations_riders_geo.plot(ax=ax, color=\"red\", markersize=1)"
   ]
  }
 ],
 "metadata": {
  "kernelspec": {
   "display_name": "ml-hsr",
   "language": "python",
   "name": "python3"
  },
  "language_info": {
   "codemirror_mode": {
    "name": "ipython",
    "version": 3
   },
   "file_extension": ".py",
   "mimetype": "text/x-python",
   "name": "python",
   "nbconvert_exporter": "python",
   "pygments_lexer": "ipython3",
   "version": "3.11.5"
  }
 },
 "nbformat": 4,
 "nbformat_minor": 2
}
