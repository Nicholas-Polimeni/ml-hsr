{
 "cells": [
  {
   "cell_type": "code",
   "execution_count": 1,
   "metadata": {},
   "outputs": [],
   "source": [
    "import geopandas as gpd\n",
    "import numpy as np\n",
    "import matplotlib.pyplot as plt\n",
    "import plotly.express as px"
   ]
  },
  {
   "cell_type": "code",
   "execution_count": 2,
   "metadata": {},
   "outputs": [],
   "source": [
    "# Read file\n",
    "city_proper = gpd.read_file('./data/city_proper_over_1000.geojson')\n",
    "hsr_countries = [\n",
    "    \"China\",\n",
    "    \"Spain\",\n",
    "    \"France\",\n",
    "    \"Germany\",\n",
    "    \"Japan\",\n",
    "    \"Italy\",\n",
    "    \"United Kingdom\",\n",
    "    \"Korea, Republic of\",\n",
    "    \"Turkey\",\n",
    "    \"Finland\",\n",
    "    \"Sweden\",\n",
    "    \"Uzbekistan\",\n",
    "    \"United States\",\n",
    "    \"Greece\",\n",
    "    \"Russia\",\n",
    "    \"Saudi Arabia\",\n",
    "    \"Taiwan, China\",\n",
    "    \"Austria\",\n",
    "    \"Portugal\",\n",
    "    \"Poland\",\n",
    "    \"Belgium\",\n",
    "    \"Morocco\",\n",
    "    \"Switzerland\",\n",
    "    \"Indonesia\",\n",
    "    \"Norway\",\n",
    "    \"Netherlands\",\n",
    "    \"Serbia\",\n",
    "    \"Denmark\",\n",
    "    \"Hong Kong, China\",\n",
    "]"
   ]
  },
  {
   "cell_type": "code",
   "execution_count": 3,
   "metadata": {},
   "outputs": [],
   "source": [
    "city_proper = city_proper[\n",
    "    [\n",
    "        \"geoname_id\",\n",
    "        \"name\",\n",
    "        \"ascii_name\",\n",
    "        \"country_code\",\n",
    "        \"cou_name_en\",\n",
    "        \"population\",\n",
    "        \"geometry\",\n",
    "    ]\n",
    "]\n",
    "\n",
    "city_proper[\"geoname_id\"] = city_proper[\"geoname_id\"].astype(\"string\")\n",
    "city_proper[\"name\"] = city_proper[\"name\"].astype(\"string\")\n",
    "city_proper[\"ascii_name\"] = city_proper[\"ascii_name\"].astype(\"string\")\n",
    "city_proper[\"country_code\"] = city_proper[\"country_code\"].astype(\"string\")\n",
    "city_proper[\"cou_name_en\"] = city_proper[\"cou_name_en\"].astype(\"string\")\n",
    "city_proper[\"population\"] = city_proper[\"population\"].astype(int)"
   ]
  },
  {
   "cell_type": "code",
   "execution_count": 4,
   "metadata": {},
   "outputs": [
    {
     "name": "stdout",
     "output_type": "stream",
     "text": [
      "<class 'geopandas.geodataframe.GeoDataFrame'>\n",
      "RangeIndex: 79439 entries, 0 to 79438\n",
      "Data columns (total 7 columns):\n",
      " #   Column        Non-Null Count  Dtype   \n",
      "---  ------        --------------  -----   \n",
      " 0   geoname_id    79439 non-null  string  \n",
      " 1   name          79439 non-null  string  \n",
      " 2   ascii_name    79439 non-null  string  \n",
      " 3   country_code  79439 non-null  string  \n",
      " 4   cou_name_en   79439 non-null  string  \n",
      " 5   population    79439 non-null  int32   \n",
      " 6   geometry      79439 non-null  geometry\n",
      "dtypes: geometry(1), int32(1), string(5)\n",
      "memory usage: 3.9 MB\n"
     ]
    }
   ],
   "source": [
    "city_proper[\"cou_name_en\"] = city_proper[\"cou_name_en\"].fillna(\"\")\n",
    "city_proper = city_proper[city_proper[\"cou_name_en\"].apply(lambda x: x in hsr_countries)].reset_index(drop=True)\n",
    "city_proper.info()"
   ]
  },
  {
   "cell_type": "code",
   "execution_count": 5,
   "metadata": {},
   "outputs": [
    {
     "data": {
      "text/plain": [
       "6856"
      ]
     },
     "execution_count": 5,
     "metadata": {},
     "output_type": "execute_result"
    }
   ],
   "source": [
    "# Take a subset of only cities with population greater than 50K\n",
    "city_over_50 = city_proper[city_proper[\"population\"] >= 32000]\n",
    "len(city_over_50)"
   ]
  },
  {
   "cell_type": "code",
   "execution_count": 6,
   "metadata": {},
   "outputs": [],
   "source": [
    "# Want to calculate dist between every city over 50K and every city below 50K\n",
    "crossed = city_over_50.merge(\n",
    "    city_over_50,\n",
    "    how=\"cross\",\n",
    ")\n",
    "crossed = gpd.GeoDataFrame(crossed)"
   ]
  },
  {
   "cell_type": "code",
   "execution_count": 7,
   "metadata": {},
   "outputs": [],
   "source": [
    "crossed.set_geometry(\"geometry_x\")\n",
    "crossed[\"geometry_x\"] = gpd.GeoSeries(crossed[\"geometry_x\"]).to_crs(\"epsg:3857\")\n",
    "crossed[\"geometry_y\"] = gpd.GeoSeries(crossed[\"geometry_y\"]).to_crs(\"epsg:3857\")\n",
    "crossed[\"dist\"] = crossed[\"geometry_x\"].distance(crossed[\"geometry_y\"])"
   ]
  },
  {
   "cell_type": "code",
   "execution_count": 8,
   "metadata": {},
   "outputs": [],
   "source": [
    "crossed[\"dist\"] = crossed[\"dist\"].astype(int)\n",
    "crossed = crossed[crossed[\"name_x\"] != crossed[\"name_y\"]]"
   ]
  },
  {
   "cell_type": "code",
   "execution_count": 9,
   "metadata": {},
   "outputs": [],
   "source": [
    "# Save smaller dataset for later if needed\n",
    "# crossed[crossed[\"dist\"] < 80467.2].to_csv(\"./data/under_50_mi.csv\")"
   ]
  },
  {
   "cell_type": "code",
   "execution_count": 10,
   "metadata": {},
   "outputs": [],
   "source": [
    "# READ CHECKPOINT\n",
    "# crossed = gpd.read_file('./data/under_50_mi.csv')\n",
    "# crossed = crossed[crossed[\"ascii_name_x\"] != crossed[\"ascii_name_y\"]]\n",
    "# crossed[\"population_x\"] = crossed[\"population_x\"].astype(int)\n",
    "# crossed[\"population_y\"] = crossed[\"population_y\"].astype(int)\n",
    "# crossed[\"dist\"] = crossed[\"dist\"].astype(float)"
   ]
  },
  {
   "cell_type": "code",
   "execution_count": 11,
   "metadata": {},
   "outputs": [
    {
     "data": {
      "text/html": [
       "<div>\n",
       "<style scoped>\n",
       "    .dataframe tbody tr th:only-of-type {\n",
       "        vertical-align: middle;\n",
       "    }\n",
       "\n",
       "    .dataframe tbody tr th {\n",
       "        vertical-align: top;\n",
       "    }\n",
       "\n",
       "    .dataframe thead th {\n",
       "        text-align: right;\n",
       "    }\n",
       "</style>\n",
       "<table border=\"1\" class=\"dataframe\">\n",
       "  <thead>\n",
       "    <tr style=\"text-align: right;\">\n",
       "      <th></th>\n",
       "      <th>geoname_id_x</th>\n",
       "      <th>name_x</th>\n",
       "      <th>ascii_name_x</th>\n",
       "      <th>country_code_x</th>\n",
       "      <th>cou_name_en_x</th>\n",
       "      <th>population_x</th>\n",
       "      <th>geometry_x</th>\n",
       "      <th>geoname_id_y</th>\n",
       "      <th>name_y</th>\n",
       "      <th>ascii_name_y</th>\n",
       "      <th>country_code_y</th>\n",
       "      <th>cou_name_en_y</th>\n",
       "      <th>population_y</th>\n",
       "      <th>geometry_y</th>\n",
       "      <th>dist</th>\n",
       "    </tr>\n",
       "  </thead>\n",
       "  <tbody>\n",
       "    <tr>\n",
       "      <th>23279119</th>\n",
       "      <td>1796236</td>\n",
       "      <td>Shanghai</td>\n",
       "      <td>Shanghai</td>\n",
       "      <td>CN</td>\n",
       "      <td>China</td>\n",
       "      <td>22315474</td>\n",
       "      <td>POINT (13520649.392 3661642.393)</td>\n",
       "      <td>1794035</td>\n",
       "      <td>Songjiang</td>\n",
       "      <td>Songjiang</td>\n",
       "      <td>CN</td>\n",
       "      <td>China</td>\n",
       "      <td>130218</td>\n",
       "      <td>POINT (13494511.576 3637221.342)</td>\n",
       "      <td>35771</td>\n",
       "    </tr>\n",
       "    <tr>\n",
       "      <th>23276529</th>\n",
       "      <td>1796236</td>\n",
       "      <td>Shanghai</td>\n",
       "      <td>Shanghai</td>\n",
       "      <td>CN</td>\n",
       "      <td>China</td>\n",
       "      <td>22315474</td>\n",
       "      <td>POINT (13520649.392 3661642.393)</td>\n",
       "      <td>1806840</td>\n",
       "      <td>Huilong</td>\n",
       "      <td>Huilong</td>\n",
       "      <td>CN</td>\n",
       "      <td>China</td>\n",
       "      <td>74818</td>\n",
       "      <td>POINT (13542572.652 3738541.339)</td>\n",
       "      <td>79962</td>\n",
       "    </tr>\n",
       "  </tbody>\n",
       "</table>\n",
       "</div>"
      ],
      "text/plain": [
       "         geoname_id_x    name_x ascii_name_x country_code_x cou_name_en_x  \\\n",
       "23279119      1796236  Shanghai     Shanghai             CN         China   \n",
       "23276529      1796236  Shanghai     Shanghai             CN         China   \n",
       "\n",
       "          population_x                        geometry_x geoname_id_y  \\\n",
       "23279119      22315474  POINT (13520649.392 3661642.393)      1794035   \n",
       "23276529      22315474  POINT (13520649.392 3661642.393)      1806840   \n",
       "\n",
       "             name_y ascii_name_y country_code_y cou_name_en_y  population_y  \\\n",
       "23279119  Songjiang    Songjiang             CN         China        130218   \n",
       "23276529    Huilong      Huilong             CN         China         74818   \n",
       "\n",
       "                                geometry_y   dist  \n",
       "23279119  POINT (13494511.576 3637221.342)  35771  \n",
       "23276529  POINT (13542572.652 3738541.339)  79962  "
      ]
     },
     "execution_count": 11,
     "metadata": {},
     "output_type": "execute_result"
    }
   ],
   "source": [
    "# Select for city pairs closer than 50 miles to main city (over 50K)\n",
    "valid = crossed[crossed[\"dist\"] < 80000]\n",
    "# valid = crossed\n",
    "\n",
    "# If the second (smaller) city is matched to multiple main cities, only keep match with largest main city\n",
    "\n",
    "valid = valid.sort_values(by=\"population_x\", ascending=False)\n",
    "valid = valid.drop_duplicates(subset=\"name_y\", keep=\"first\")\n",
    "\n",
    "valid.head(2)"
   ]
  },
  {
   "cell_type": "code",
   "execution_count": 12,
   "metadata": {},
   "outputs": [],
   "source": [
    "# Groupby main city, sum population, agg list of names together for record and keep largest city as metro name\n",
    "valid = (\n",
    "    valid.groupby(\"ascii_name_x\")\n",
    "    .agg(\n",
    "        {\n",
    "            \"population_x\": \"first\",\n",
    "            \"country_code_x\": \"first\",\n",
    "            \"geometry_x\": \"first\",\n",
    "            \"population_y\": \"sum\",\n",
    "            \"ascii_name_y\": list,\n",
    "        }\n",
    "    )\n",
    "    .reset_index()\n",
    ")\n",
    "valid[\"population\"] = valid[\"population_x\"] + valid[\"population_y\"]\n",
    "valid = valid.rename(columns={\n",
    "    \"ascii_name_x\": \"central city\",\n",
    "    \"population_x\": \"central city pop\",\n",
    "    \"country_code_x\": \"country_code\",\n",
    "    \"population\": \"total pop\",\n",
    "    \"population_y\": \"population\",\n",
    "    \"geometry_x\": \"geometry\"\n",
    "})\n",
    "valid[\"population\"] = valid[\"population\"].astype(int)"
   ]
  },
  {
   "cell_type": "code",
   "execution_count": 13,
   "metadata": {},
   "outputs": [],
   "source": [
    "valid = valid.sort_values(by=\"total pop\", ascending=False)"
   ]
  },
  {
   "cell_type": "code",
   "execution_count": 14,
   "metadata": {},
   "outputs": [],
   "source": [
    "# Efficiently determine rows to drop\n",
    "seen_prev = set()  # To keep track of all values seen in column 'B'\n",
    "rows_to_keep = []  # List to keep track of row indices that we do not want to drop\n",
    "\n",
    "for index, row in valid.iterrows():\n",
    "    # Check if the current value in 'A' has been seen in any 'B' list before this row\n",
    "    if row[\"central city\"] not in seen_prev:\n",
    "        rows_to_keep.append(index)\n",
    "    # Add the current row's 'B' list items to the seen set\n",
    "    seen_prev.update(row[\"ascii_name_y\"])\n",
    "\n",
    "# Filter the DataFrame to keep only the rows we want\n",
    "valid_dropped = valid.loc[rows_to_keep].reset_index(drop=True)"
   ]
  },
  {
   "cell_type": "code",
   "execution_count": 15,
   "metadata": {},
   "outputs": [
    {
     "data": {
      "text/html": [
       "<div>\n",
       "<style scoped>\n",
       "    .dataframe tbody tr th:only-of-type {\n",
       "        vertical-align: middle;\n",
       "    }\n",
       "\n",
       "    .dataframe tbody tr th {\n",
       "        vertical-align: top;\n",
       "    }\n",
       "\n",
       "    .dataframe thead th {\n",
       "        text-align: right;\n",
       "    }\n",
       "</style>\n",
       "<table border=\"1\" class=\"dataframe\">\n",
       "  <thead>\n",
       "    <tr style=\"text-align: right;\">\n",
       "      <th></th>\n",
       "      <th>central city</th>\n",
       "      <th>central city pop</th>\n",
       "      <th>country_code</th>\n",
       "      <th>geometry</th>\n",
       "      <th>population</th>\n",
       "      <th>ascii_name_y</th>\n",
       "      <th>total pop</th>\n",
       "    </tr>\n",
       "  </thead>\n",
       "  <tbody>\n",
       "    <tr>\n",
       "      <th>0</th>\n",
       "      <td>Shenzhen</td>\n",
       "      <td>17494398</td>\n",
       "      <td>CN</td>\n",
       "      <td>POINT (12698025.072 2577151.127)</td>\n",
       "      <td>36825407</td>\n",
       "      <td>[Nam Cheong, Wan Chai, Tseung Kwan O, Tai Koo,...</td>\n",
       "      <td>54319805</td>\n",
       "    </tr>\n",
       "    <tr>\n",
       "      <th>1</th>\n",
       "      <td>Tokyo</td>\n",
       "      <td>8336599</td>\n",
       "      <td>JP</td>\n",
       "      <td>POINT (15550410.025 4257980.732)</td>\n",
       "      <td>23736774</td>\n",
       "      <td>[Oami, Higashikurume, Wako, Ushiku, Togane, Zu...</td>\n",
       "      <td>32073373</td>\n",
       "    </tr>\n",
       "    <tr>\n",
       "      <th>2</th>\n",
       "      <td>Langfang</td>\n",
       "      <td>868066</td>\n",
       "      <td>CN</td>\n",
       "      <td>POINT (12992622.085 4796547.206)</td>\n",
       "      <td>30051058</td>\n",
       "      <td>[Tianjin, Beijing]</td>\n",
       "      <td>30919124</td>\n",
       "    </tr>\n",
       "    <tr>\n",
       "      <th>3</th>\n",
       "      <td>Shanghai</td>\n",
       "      <td>22315474</td>\n",
       "      <td>CN</td>\n",
       "      <td>POINT (13520649.392 3661642.393)</td>\n",
       "      <td>4165757</td>\n",
       "      <td>[Songjiang, Huilong, Taicang, Zhabei, Jiashan,...</td>\n",
       "      <td>26481231</td>\n",
       "    </tr>\n",
       "    <tr>\n",
       "      <th>4</th>\n",
       "      <td>New York City</td>\n",
       "      <td>8804190</td>\n",
       "      <td>US</td>\n",
       "      <td>POINT (-8238306.896 4970287.468)</td>\n",
       "      <td>16427587</td>\n",
       "      <td>[The Bronx, Woodhaven, Hoboken, Wakefield, Pis...</td>\n",
       "      <td>25231777</td>\n",
       "    </tr>\n",
       "    <tr>\n",
       "      <th>5</th>\n",
       "      <td>Jakarta</td>\n",
       "      <td>8540121</td>\n",
       "      <td>ID</td>\n",
       "      <td>POINT (11893945.465 -693168.833)</td>\n",
       "      <td>13913082</td>\n",
       "      <td>[Depok, Cikupa, Caringin, Tangerang, Sukabumi,...</td>\n",
       "      <td>22453203</td>\n",
       "    </tr>\n",
       "    <tr>\n",
       "      <th>6</th>\n",
       "      <td>Seoul</td>\n",
       "      <td>10349312</td>\n",
       "      <td>KR</td>\n",
       "      <td>POINT (14135170.830 4518296.290)</td>\n",
       "      <td>11834000</td>\n",
       "      <td>[Icheon-si, Seongnam-si, Guri-si, Pubal, Uijeo...</td>\n",
       "      <td>22183312</td>\n",
       "    </tr>\n",
       "    <tr>\n",
       "      <th>7</th>\n",
       "      <td>Istanbul</td>\n",
       "      <td>14804116</td>\n",
       "      <td>TR</td>\n",
       "      <td>POINT (3222661.410 5014383.275)</td>\n",
       "      <td>6801193</td>\n",
       "      <td>[UEskuedar, Maltepe, Eminoenue, Bahcelievler, ...</td>\n",
       "      <td>21605309</td>\n",
       "    </tr>\n",
       "    <tr>\n",
       "      <th>8</th>\n",
       "      <td>Wuxi</td>\n",
       "      <td>4396835</td>\n",
       "      <td>CN</td>\n",
       "      <td>POINT (13390462.361 3706850.215)</td>\n",
       "      <td>13071777</td>\n",
       "      <td>[Jiangyin, Yixing, Changzhou, Suzhou]</td>\n",
       "      <td>17468612</td>\n",
       "    </tr>\n",
       "    <tr>\n",
       "      <th>9</th>\n",
       "      <td>London</td>\n",
       "      <td>8961989</td>\n",
       "      <td>GB</td>\n",
       "      <td>POINT (-13997.313 6711744.580)</td>\n",
       "      <td>8214498</td>\n",
       "      <td>[Islington, Gillingham, Canary Wharf, Canvey I...</td>\n",
       "      <td>17176487</td>\n",
       "    </tr>\n",
       "    <tr>\n",
       "      <th>10</th>\n",
       "      <td>Osaka</td>\n",
       "      <td>2753862</td>\n",
       "      <td>JP</td>\n",
       "      <td>POINT (15084033.679 4122339.129)</td>\n",
       "      <td>14313749</td>\n",
       "      <td>[Muko, Moriguchi, Tenri, Kainan, Habikino, Kaw...</td>\n",
       "      <td>17067611</td>\n",
       "    </tr>\n",
       "    <tr>\n",
       "      <th>11</th>\n",
       "      <td>Chengdu</td>\n",
       "      <td>13568357</td>\n",
       "      <td>CN</td>\n",
       "      <td>POINT (11584648.713 3589535.140)</td>\n",
       "      <td>851454</td>\n",
       "      <td>[Deyang, Tianpeng, Linqiong]</td>\n",
       "      <td>14419811</td>\n",
       "    </tr>\n",
       "    <tr>\n",
       "      <th>12</th>\n",
       "      <td>Hangzhou</td>\n",
       "      <td>9236032</td>\n",
       "      <td>CN</td>\n",
       "      <td>POINT (13376308.087 3541351.935)</td>\n",
       "      <td>3888002</td>\n",
       "      <td>[Fuyang, Shaoxing, Haining, Deqing, Wuzhen, Zh...</td>\n",
       "      <td>13124034</td>\n",
       "    </tr>\n",
       "    <tr>\n",
       "      <th>13</th>\n",
       "      <td>Los Angeles</td>\n",
       "      <td>3898747</td>\n",
       "      <td>US</td>\n",
       "      <td>POINT (-13162826.247 4035817.397)</td>\n",
       "      <td>9101529</td>\n",
       "      <td>[North Hills, Santa Ana, Diamond Bar, Alhambra...</td>\n",
       "      <td>13000276</td>\n",
       "    </tr>\n",
       "    <tr>\n",
       "      <th>14</th>\n",
       "      <td>Wuhan</td>\n",
       "      <td>10392693</td>\n",
       "      <td>CN</td>\n",
       "      <td>POINT (12720107.519 3578754.020)</td>\n",
       "      <td>2555926</td>\n",
       "      <td>[Xinzhou, Huangzhou, Xiaogan, Ezhou, Huanggang...</td>\n",
       "      <td>12948619</td>\n",
       "    </tr>\n",
       "    <tr>\n",
       "      <th>15</th>\n",
       "      <td>Chongqing</td>\n",
       "      <td>7457599</td>\n",
       "      <td>CN</td>\n",
       "      <td>POINT (11861950.017 3447149.679)</td>\n",
       "      <td>5424267</td>\n",
       "      <td>[Shuangfengqiao, Jielong, Chenshi, Sanhui, Yon...</td>\n",
       "      <td>12881866</td>\n",
       "    </tr>\n",
       "    <tr>\n",
       "      <th>16</th>\n",
       "      <td>Nanjing</td>\n",
       "      <td>9314685</td>\n",
       "      <td>CN</td>\n",
       "      <td>POINT (13222281.987 3771408.498)</td>\n",
       "      <td>2777090</td>\n",
       "      <td>[Gushu, Ma'anshan, Chuzhou, Zhenjiang, Xiaolin...</td>\n",
       "      <td>12091775</td>\n",
       "    </tr>\n",
       "    <tr>\n",
       "      <th>17</th>\n",
       "      <td>Xi'an</td>\n",
       "      <td>9600000</td>\n",
       "      <td>CN</td>\n",
       "      <td>POINT (12125877.398 4063542.404)</td>\n",
       "      <td>2430350</td>\n",
       "      <td>[Lintong, Yuxia, Weinan, Yanliang, Xianyang]</td>\n",
       "      <td>12030350</td>\n",
       "    </tr>\n",
       "    <tr>\n",
       "      <th>18</th>\n",
       "      <td>Taipei</td>\n",
       "      <td>7871900</td>\n",
       "      <td>TW</td>\n",
       "      <td>POINT (13528863.657 2881612.005)</td>\n",
       "      <td>3003900</td>\n",
       "      <td>[Shulin, Hsinchu, Neihu, Xizhi, Yilan, Taoyuan...</td>\n",
       "      <td>10875800</td>\n",
       "    </tr>\n",
       "    <tr>\n",
       "      <th>19</th>\n",
       "      <td>Jiaozhou</td>\n",
       "      <td>619266</td>\n",
       "      <td>CN</td>\n",
       "      <td>POINT (13358709.589 4339754.839)</td>\n",
       "      <td>9207230</td>\n",
       "      <td>[Yunshan, Qingdao, Zhu Cheng City, Jiangzhuang...</td>\n",
       "      <td>9826496</td>\n",
       "    </tr>\n",
       "  </tbody>\n",
       "</table>\n",
       "</div>"
      ],
      "text/plain": [
       "     central city  central city pop country_code  \\\n",
       "0        Shenzhen          17494398           CN   \n",
       "1           Tokyo           8336599           JP   \n",
       "2        Langfang            868066           CN   \n",
       "3        Shanghai          22315474           CN   \n",
       "4   New York City           8804190           US   \n",
       "5         Jakarta           8540121           ID   \n",
       "6           Seoul          10349312           KR   \n",
       "7        Istanbul          14804116           TR   \n",
       "8            Wuxi           4396835           CN   \n",
       "9          London           8961989           GB   \n",
       "10          Osaka           2753862           JP   \n",
       "11        Chengdu          13568357           CN   \n",
       "12       Hangzhou           9236032           CN   \n",
       "13    Los Angeles           3898747           US   \n",
       "14          Wuhan          10392693           CN   \n",
       "15      Chongqing           7457599           CN   \n",
       "16        Nanjing           9314685           CN   \n",
       "17          Xi'an           9600000           CN   \n",
       "18         Taipei           7871900           TW   \n",
       "19       Jiaozhou            619266           CN   \n",
       "\n",
       "                             geometry  population  \\\n",
       "0    POINT (12698025.072 2577151.127)    36825407   \n",
       "1    POINT (15550410.025 4257980.732)    23736774   \n",
       "2    POINT (12992622.085 4796547.206)    30051058   \n",
       "3    POINT (13520649.392 3661642.393)     4165757   \n",
       "4    POINT (-8238306.896 4970287.468)    16427587   \n",
       "5    POINT (11893945.465 -693168.833)    13913082   \n",
       "6    POINT (14135170.830 4518296.290)    11834000   \n",
       "7     POINT (3222661.410 5014383.275)     6801193   \n",
       "8    POINT (13390462.361 3706850.215)    13071777   \n",
       "9      POINT (-13997.313 6711744.580)     8214498   \n",
       "10   POINT (15084033.679 4122339.129)    14313749   \n",
       "11   POINT (11584648.713 3589535.140)      851454   \n",
       "12   POINT (13376308.087 3541351.935)     3888002   \n",
       "13  POINT (-13162826.247 4035817.397)     9101529   \n",
       "14   POINT (12720107.519 3578754.020)     2555926   \n",
       "15   POINT (11861950.017 3447149.679)     5424267   \n",
       "16   POINT (13222281.987 3771408.498)     2777090   \n",
       "17   POINT (12125877.398 4063542.404)     2430350   \n",
       "18   POINT (13528863.657 2881612.005)     3003900   \n",
       "19   POINT (13358709.589 4339754.839)     9207230   \n",
       "\n",
       "                                         ascii_name_y  total pop  \n",
       "0   [Nam Cheong, Wan Chai, Tseung Kwan O, Tai Koo,...   54319805  \n",
       "1   [Oami, Higashikurume, Wako, Ushiku, Togane, Zu...   32073373  \n",
       "2                                  [Tianjin, Beijing]   30919124  \n",
       "3   [Songjiang, Huilong, Taicang, Zhabei, Jiashan,...   26481231  \n",
       "4   [The Bronx, Woodhaven, Hoboken, Wakefield, Pis...   25231777  \n",
       "5   [Depok, Cikupa, Caringin, Tangerang, Sukabumi,...   22453203  \n",
       "6   [Icheon-si, Seongnam-si, Guri-si, Pubal, Uijeo...   22183312  \n",
       "7   [UEskuedar, Maltepe, Eminoenue, Bahcelievler, ...   21605309  \n",
       "8               [Jiangyin, Yixing, Changzhou, Suzhou]   17468612  \n",
       "9   [Islington, Gillingham, Canary Wharf, Canvey I...   17176487  \n",
       "10  [Muko, Moriguchi, Tenri, Kainan, Habikino, Kaw...   17067611  \n",
       "11                       [Deyang, Tianpeng, Linqiong]   14419811  \n",
       "12  [Fuyang, Shaoxing, Haining, Deqing, Wuzhen, Zh...   13124034  \n",
       "13  [North Hills, Santa Ana, Diamond Bar, Alhambra...   13000276  \n",
       "14  [Xinzhou, Huangzhou, Xiaogan, Ezhou, Huanggang...   12948619  \n",
       "15  [Shuangfengqiao, Jielong, Chenshi, Sanhui, Yon...   12881866  \n",
       "16  [Gushu, Ma'anshan, Chuzhou, Zhenjiang, Xiaolin...   12091775  \n",
       "17       [Lintong, Yuxia, Weinan, Yanliang, Xianyang]   12030350  \n",
       "18  [Shulin, Hsinchu, Neihu, Xizhi, Yilan, Taoyuan...   10875800  \n",
       "19  [Yunshan, Qingdao, Zhu Cheng City, Jiangzhuang...    9826496  "
      ]
     },
     "execution_count": 15,
     "metadata": {},
     "output_type": "execute_result"
    }
   ],
   "source": [
    "valid_dropped.head(20)"
   ]
  },
  {
   "cell_type": "code",
   "execution_count": 16,
   "metadata": {},
   "outputs": [],
   "source": [
    "world = gpd.read_file(\"./data/countries.geojson\")\n",
    "world = world.to_crs(\"epsg:4326\")"
   ]
  },
  {
   "cell_type": "code",
   "execution_count": 17,
   "metadata": {},
   "outputs": [
    {
     "data": {
      "application/vnd.plotly.v1+json": {
       "config": {
        "plotlyServerURL": "https://plot.ly"
       },
       "data": [
        {
         "customdata": [
          [
           "Shenzhen",
           54319805
          ],
          [
           "Tokyo",
           32073373
          ],
          [
           "Langfang",
           30919124
          ],
          [
           "Shanghai",
           26481231
          ],
          [
           "New York City",
           25231777
          ],
          [
           "Jakarta",
           22453203
          ],
          [
           "Seoul",
           22183312
          ],
          [
           "Istanbul",
           21605309
          ],
          [
           "Wuxi",
           17468612
          ],
          [
           "London",
           17176487
          ],
          [
           "Osaka",
           17067611
          ],
          [
           "Chengdu",
           14419811
          ],
          [
           "Hangzhou",
           13124034
          ],
          [
           "Los Angeles",
           13000276
          ],
          [
           "Wuhan",
           12948619
          ],
          [
           "Chongqing",
           12881866
          ],
          [
           "Nanjing",
           12091775
          ],
          [
           "Xi'an",
           12030350
          ],
          [
           "Taipei",
           10875800
          ],
          [
           "Jiaozhou",
           9826496
          ],
          [
           "Madrid",
           8968084
          ],
          [
           "Shantou",
           8930956
          ],
          [
           "Shenyang",
           8906331
          ],
          [
           "Nagoya",
           8751666
          ],
          [
           "Xiamen",
           8292598
          ],
          [
           "Tai'an",
           7369125
          ],
          [
           "Ningbo",
           7317784
          ],
          [
           "Puyang",
           7250074
          ],
          [
           "Mecca",
           7036605
          ],
          [
           "Busan",
           6975449
          ],
          [
           "Paris",
           6917439
          ],
          [
           "Berlin",
           6871204
          ],
          [
           "Zhengzhou",
           6808775
          ],
          [
           "Chicago",
           6795191
          ],
          [
           "Changsha",
           6762991
          ],
          [
           "Barcelona",
           6352025
          ],
          [
           "Jinzhou",
           5988439
          ],
          [
           "Zibo",
           5788501
          ],
          [
           "Taiyuan",
           5766219
          ],
          [
           "Dallas",
           5640083
          ],
          [
           "Harbin",
           5627376
          ],
          [
           "Koeln",
           5608949
          ],
          [
           "Semarang",
           5196982
          ],
          [
           "Hefei",
           5188463
          ],
          [
           "Surabaya",
           5082472
          ],
          [
           "Hamburg",
           5082341
          ],
          [
           "Shijiazhuang",
           5062764
          ],
          [
           "Changchun",
           5010680
          ],
          [
           "Fuzhou",
           4915223
          ],
          [
           "Bandung",
           4865681
          ],
          [
           "Ankara",
           4858933
          ],
          [
           "Daejeon",
           4824798
          ],
          [
           "Fukuoka",
           4708786
          ],
          [
           "Phoenix",
           4467508
          ],
          [
           "Kunming",
           4353015
          ],
          [
           "Birmingham",
           4239160
          ],
          [
           "Brussels",
           4161709
          ],
          [
           "Suqian",
           4061484
          ],
          [
           "Zigong",
           4031349
          ],
          [
           "Luohe",
           3920032
          ],
          [
           "Taizhou",
           3904429
          ],
          [
           "Yongning",
           3901490
          ],
          [
           "Liverpool",
           3859717
          ],
          [
           "Xuzhou",
           3786898
          ],
          [
           "Medan",
           3772435
          ],
          [
           "Rui'an",
           3769735
          ],
          [
           "Tangshan",
           3745096
          ],
          [
           "San Jose",
           3728460
          ],
          [
           "Warsaw",
           3714927
          ],
          [
           "Nanchong",
           3712077
          ],
          [
           "Miami",
           3705314
          ],
          [
           "Handan",
           3690465
          ],
          [
           "Daegu",
           3659135
          ],
          [
           "Casablanca",
           3590503
          ],
          [
           "Izmir",
           3562917
          ],
          [
           "Rabat",
           3541530
          ],
          [
           "Bursa",
           3540500
          ],
          [
           "Washington",
           3530517
          ],
          [
           "Amsterdam",
           3490157
          ],
          [
           "Houston",
           3397331
          ],
          [
           "Yantai",
           3332141
          ],
          [
           "Boston",
           3300392
          ],
          [
           "Baiyin",
           3294400
          ],
          [
           "Naples",
           3260389
          ],
          [
           "Linyi",
           3253197
          ],
          [
           "UEruemqi",
           3228148
          ],
          [
           "Liaoyang",
           3125607
          ],
          [
           "Rome",
           3106448
          ],
          [
           "Milan",
           3100048
          ],
          [
           "Bozhou",
           3088779
          ],
          [
           "Baoding",
           3035502
          ],
          [
           "Zhanjiang",
           3004721
          ],
          [
           "Wanxian",
           2930544
          ],
          [
           "Athens",
           2870693
          ],
          [
           "Katowice",
           2815549
          ],
          [
           "Sheffield",
           2793322
          ],
          [
           "Nanyang",
           2785790
          ],
          [
           "Huainan",
           2766225
          ],
          [
           "Okayama",
           2761750
          ],
          [
           "San Diego",
           2722969
          ],
          [
           "Vienna",
           2703438
          ],
          [
           "Sapporo",
           2697179
          ],
          [
           "Huai'an",
           2687857
          ],
          [
           "Tarsus",
           2664020
          ],
          [
           "Cirebon",
           2658942
          ],
          [
           "Qinzhou",
           2595500
          ],
          [
           "Philadelphia",
           2588837
          ],
          [
           "Kaohsiung",
           2572422
          ],
          [
           "Stockholm",
           2555164
          ],
          [
           "Detroit",
           2529700
          ],
          [
           "Mianyang",
           2525253
          ],
          [
           "Nanchang",
           2523021
          ],
          [
           "Tashkent",
           2520212
          ],
          [
           "Sendai",
           2474307
          ],
          [
           "Liuzhou",
           2414474
          ],
          [
           "Seattle",
           2402331
          ],
          [
           "Shizuishan",
           2389123
          ],
          [
           "Marseille",
           2376288
          ],
          [
           "Copenhagen",
           2372785
          ],
          [
           "Xuanzhou",
           2372497
          ],
          [
           "Jining",
           2365855
          ],
          [
           "Rotterdam",
           2303983
          ],
          [
           "Baotou",
           2285061
          ],
          [
           "Medina",
           2246697
          ],
          [
           "Liuzhi",
           2224964
          ],
          [
           "Daqing",
           2214889
          ],
          [
           "Xining",
           2185993
          ],
          [
           "Frankfurt am Main",
           2137447
          ],
          [
           "Loushanguan",
           2118119
          ],
          [
           "Lianyungang",
           2115405
          ],
          [
           "Kleinzschocher",
           2101609
          ],
          [
           "Tianshui",
           2076172
          ],
          [
           "Yancheng",
           2062028
          ],
          [
           "Gaziantep",
           2047188
          ],
          [
           "Dongsheng",
           2040462
          ],
          [
           "Leiyang",
           2027166
          ],
          [
           "Yichun",
           2022320
          ],
          [
           "Stuttgart",
           2017528
          ],
          [
           "Guangshui",
           2003395
          ],
          [
           "Bristol",
           2002890
          ],
          [
           "Jishu",
           1999853
          ],
          [
           "Minneapolis",
           1980673
          ],
          [
           "Luzhou",
           1973391
          ],
          [
           "Kure",
           1956890
          ],
          [
           "Xiangyang",
           1951023
          ],
          [
           "Diyarbakir",
           1918550
          ],
          [
           "Chizhou",
           1910948
          ],
          [
           "Antalya",
           1904185
          ],
          [
           "Dazhou",
           1900568
          ],
          [
           "Baoshan",
           1898790
          ],
          [
           "Guilin",
           1872300
          ],
          [
           "Dammam",
           1855258
          ],
          [
           "Leshan",
           1844137
          ],
          [
           "Fes",
           1838330
          ],
          [
           "Utsunomiya",
           1796078
          ],
          [
           "Wuyang",
           1785318
          ],
          [
           "Virginia Beach",
           1765500
          ],
          [
           "Kanazawa",
           1744230
          ],
          [
           "Sacramento",
           1724535
          ],
          [
           "Hamamatsu",
           1721718
          ],
          [
           "Tampa",
           1715998
          ],
          [
           "Lisbon",
           1706712
          ],
          [
           "Las Vegas",
           1703826
          ],
          [
           "Binzhou",
           1681685
          ],
          [
           "Yangjiang",
           1639184
          ],
          [
           "Munich",
           1623701
          ],
          [
           "Lyon",
           1613322
          ],
          [
           "Changde",
           1606470
          ],
          [
           "Belgrade",
           1600125
          ],
          [
           "Meizhou",
           1587083
          ],
          [
           "San Antonio",
           1581692
          ],
          [
           "Zaozhuang",
           1577477
          ],
          [
           "Yichang",
           1569702
          ],
          [
           "Marg'ilon",
           1551700
          ],
          [
           "Salt Lake City",
           1550402
          ],
          [
           "Niigata",
           1539439
          ],
          [
           "Taichung",
           1527828
          ],
          [
           "Guozhen",
           1523217
          ],
          [
           "Galesong",
           1506927
          ],
          [
           "Liaocheng",
           1493735
          ],
          [
           "Bielefeld",
           1491791
          ],
          [
           "Atlanta",
           1491473
          ],
          [
           "Situbondo",
           1482086
          ],
          [
           "New South Memphis",
           1480953
          ],
          [
           "Kumamoto",
           1464499
          ],
          [
           "Heze",
           1463030
          ],
          [
           "Jiujiang",
           1462562
          ],
          [
           "Shizuoka",
           1456102
          ],
          [
           "Murcia",
           1448671
          ],
          [
           "Batam",
           1440968
          ],
          [
           "Cumra",
           1435708
          ],
          [
           "Bandar Lampung",
           1429573
          ],
          [
           "Jingzhou",
           1427965
          ],
          [
           "Portland",
           1379939
          ],
          [
           "Yulin",
           1375022
          ],
          [
           "Tangier",
           1373862
          ],
          [
           "Lengshuijiang",
           1365764
          ],
          [
           "Kansas City",
           1361465
          ],
          [
           "Raleigh",
           1350582
          ],
          [
           "Yuncheng",
           1349343
          ],
          [
           "Charlotte",
           1348936
          ],
          [
           "Shaoguan",
           1339333
          ],
          [
           "Aachen",
           1330548
          ],
          [
           "Helsinki",
           1327797
          ],
          [
           "Jixi",
           1323829
          ],
          [
           "Austin",
           1308232
          ],
          [
           "Indianapolis",
           1307680
          ],
          [
           "Yingkou",
           1296422
          ],
          [
           "Balai Pungut",
           1285212
          ],
          [
           "Kayseri",
           1277399
          ],
          [
           "Turin",
           1275147
          ],
          [
           "Hulan Ergi",
           1254092
          ],
          [
           "Fuling",
           1227875
          ],
          [
           "Samarinda",
           1223193
          ],
          [
           "Yueyang",
           1221675
          ],
          [
           "Guiping",
           1219876
          ],
          [
           "Cleveland",
           1216947
          ],
          [
           "Kagoshima",
           1215395
          ],
          [
           "Glasgow",
           1214000
          ],
          [
           "Malaga",
           1210714
          ],
          [
           "Koriyama",
           1210589
          ],
          [
           "Hanzhong",
           1207538
          ],
          [
           "Columbus",
           1199389
          ],
          [
           "Padang",
           1195689
          ],
          [
           "Pekalongan",
           1172207
          ],
          [
           "Takasaki",
           1166426
          ],
          [
           "Nagano",
           1160309
          ],
          [
           "Lodz",
           1152069
          ],
          [
           "Hannover",
           1149123
          ],
          [
           "Orlando",
           1148935
          ],
          [
           "Milwaukee",
           1144520
          ],
          [
           "Mannheim",
           1144237
          ],
          [
           "Sanya",
           1143665
          ],
          [
           "Eskisehir",
           1138742
          ],
          [
           "Nashville",
           1133826
          ],
          [
           "Ankang",
           1121318
          ],
          [
           "Fenghuang",
           1115547
          ],
          [
           "Yongzhou",
           1109650
          ],
          [
           "Xinzhi",
           1108679
          ],
          [
           "Newcastle upon Tyne",
           1098952
          ],
          [
           "Babu",
           1071093
          ],
          [
           "Xuanhua",
           1066024
          ],
          [
           "Dali",
           1057490
          ],
          [
           "Bilbao",
           1054591
          ],
          [
           "Sevilla",
           1041449
          ],
          [
           "Qinhuangdao",
           1030194
          ],
          [
           "Jacksonville",
           1030014
          ],
          [
           "Bari",
           1023917
          ],
          [
           "Oklahoma City",
           1013726
          ],
          [
           "Denpasar",
           1000756
          ],
          [
           "Bologna",
           999442
          ],
          [
           "Gdansk",
           982592
          ],
          [
           "Hengshui",
           966546
          ],
          [
           "Southampton",
           952370
          ],
          [
           "Manchester",
           938290
          ],
          [
           "Florence",
           929472
          ],
          [
           "Krakow",
           929308
          ],
          [
           "Pingliang",
           916702
          ],
          [
           "Wuzhou",
           904893
          ],
          [
           "Springfield",
           894905
          ],
          [
           "Lille",
           891496
          ],
          [
           "Siping",
           890473
          ],
          [
           "Buraydah",
           887951
          ],
          [
           "Bremen",
           881876
          ],
          [
           "Wroclaw",
           881746
          ],
          [
           "Nuernberg",
           878401
          ],
          [
           "Fresno",
           874203
          ],
          [
           "Panzhihua",
           871334
          ],
          [
           "Zurich",
           847193
          ],
          [
           "Naha",
           847181
          ],
          [
           "Oulad Teima",
           836275
          ],
          [
           "Oslo",
           834597
          ],
          [
           "Baishan",
           825754
          ],
          [
           "Banjarmasin",
           824744
          ],
          [
           "Mudanjiang",
           819456
          ],
          [
           "El Paso",
           815989
          ],
          [
           "Hotan",
           814054
          ],
          [
           "Porto",
           787892
          ],
          [
           "Dresden",
           787398
          ],
          [
           "Zaragoza",
           785821
          ],
          [
           "Nagasaki",
           785507
          ],
          [
           "Luobei",
           785416
          ],
          [
           "Palermo",
           780922
          ],
          [
           "Southend-on-Sea",
           778961
          ],
          [
           "Albuquerque",
           775139
          ],
          [
           "New Orleans",
           770819
          ],
          [
           "Nice",
           766523
          ],
          [
           "Guangyuan",
           762215
          ],
          [
           "Oita",
           761392
          ],
          [
           "Fuxin",
           757653
          ],
          [
           "Yanji",
           756221
          ],
          [
           "Jiayuguan",
           744968
          ],
          [
           "Jingmen",
           741837
          ],
          [
           "Huocheng",
           736099
          ],
          [
           "Tucson",
           735850
          ],
          [
           "Thessaloniki",
           719548
          ],
          [
           "Freiburg",
           718596
          ],
          [
           "Bydgoszcz",
           712662
          ],
          [
           "Manado",
           710367
          ],
          [
           "Jerez de la Frontera",
           704541
          ],
          [
           "Urgut Shahri",
           703645
          ],
          [
           "Edinburgh",
           701560
          ],
          [
           "Jambi City",
           699120
          ],
          [
           "Greensboro",
           689300
          ],
          [
           "Catania",
           679254
          ],
          [
           "Las Palmas de Gran Canaria",
           676307
          ],
          [
           "Modesto",
           671652
          ],
          [
           "Ercis",
           669712
          ],
          [
           "Jeju City",
           664858
          ],
          [
           "Santa Cruz de Tenerife",
           663748
          ],
          [
           "Belfast",
           663710
          ],
          [
           "Aomori",
           662826
          ],
          [
           "Curup",
           654002
          ],
          [
           "St. Louis",
           648271
          ],
          [
           "Goeteborg",
           646979
          ],
          [
           "Xianning",
           645408
          ],
          [
           "Padova",
           644428
          ],
          [
           "Genoa",
           641442
          ],
          [
           "Eindhoven",
           640859
          ],
          [
           "Poznan",
           640621
          ],
          [
           "Ji'an",
           633144
          ],
          [
           "Shihezi",
           632901
          ],
          [
           "Batman",
           626495
          ],
          [
           "Meads",
           625936
          ],
          [
           "Rimini",
           614352
          ],
          [
           "Adapazari",
           614312
          ],
          [
           "Braunschweig",
           612945
          ],
          [
           "Huangshan",
           606831
          ],
          [
           "Yong'an",
           602330
          ],
          [
           "Khamis Mushait",
           598439
          ],
          [
           "Merkezefendi",
           593579
          ],
          [
           "Cangzhou",
           590726
          ],
          [
           "Andijon",
           590717
          ],
          [
           "Ordu",
           590450
          ],
          [
           "Yan'an",
           588932
          ],
          [
           "Izumo",
           587123
          ],
          [
           "Al Hufuf",
           583981
          ],
          [
           "Nimes",
           582098
          ],
          [
           "Honolulu",
           580717
          ],
          [
           "Kaili",
           579576
          ],
          [
           "Wenshan City",
           577973
          ],
          [
           "Selong",
           577455
          ],
          [
           "Iskenderun",
           572802
          ],
          [
           "Nijmegen",
           572242
          ],
          [
           "Palma",
           571409
          ],
          [
           "Nada",
           567239
          ],
          [
           "Oujda-Angad",
           564866
          ],
          [
           "Starachowice",
           563120
          ],
          [
           "Enshi",
           560939
          ],
          [
           "Hulunbuir",
           560466
          ],
          [
           "Broken Arrow",
           558085
          ],
          [
           "Basuo",
           555533
          ],
          [
           "Erfurt",
           555209
          ],
          [
           "Buffalo",
           549242
          ],
          [
           "Kingston upon Hull",
           548903
          ],
          [
           "Council Bluffs",
           548648
          ],
          [
           "Montauban",
           545899
          ],
          [
           "Jingdezhen",
           544348
          ],
          [
           "Cape Coral",
           543874
          ],
          [
           "Muenster",
           540680
          ],
          [
           "Lexington-Fayette",
           539854
          ],
          [
           "Samsun",
           537453
          ],
          [
           "Longling County",
           537386
          ],
          [
           "Enschede",
           537336
          ],
          [
           "Morioka",
           533027
          ],
          [
           "Sanliurfa",
           528357
          ],
          [
           "Nantes",
           525168
          ],
          [
           "Kahta",
           515577
          ],
          [
           "Providence",
           514494
          ],
          [
           "Szczecin",
           513385
          ],
          [
           "Akita",
           511968
          ],
          [
           "Duezce",
           502778
          ],
          [
           "Magdeburg",
           502355
          ],
          [
           "Xingyi",
           500885
          ],
          [
           "Corlu",
           499998
          ],
          [
           "Wulingyuan",
           494516
          ],
          [
           "Al Hoceima",
           491471
          ],
          [
           "A Coruna",
           489333
          ],
          [
           "Yizhou",
           486003
          ],
          [
           "Lublin",
           485687
          ],
          [
           "Elazig",
           478524
          ],
          [
           "Verona",
           477163
          ],
          [
           "Chifeng",
           474554
          ],
          [
           "Saarbruecken",
           470764
          ],
          [
           "Jayapura",
           466252
          ],
          [
           "Karlsruhe",
           464817
          ],
          [
           "Oxnard",
           463473
          ],
          [
           "Vigo",
           461151
          ],
          [
           "Aydin",
           460968
          ],
          [
           "Al Kharj",
           460671
          ],
          [
           "Fukui-shi",
           459233
          ],
          [
           "Bakersfield",
           459057
          ],
          [
           "Arhus",
           458896
          ],
          [
           "Swindon",
           450532
          ],
          [
           "Strasbourg",
           447932
          ],
          [
           "Tri-Cities",
           446631
          ],
          [
           "Leskovac",
           441635
          ],
          [
           "Des Moines",
           440329
          ],
          [
           "Messina",
           437001
          ],
          [
           "Kragujevac",
           432023
          ],
          [
           "Bordeaux",
           431272
          ],
          [
           "McAllen",
           421158
          ],
          [
           "Goksun",
           419196
          ],
          [
           "Oued Zem",
           418982
          ],
          [
           "Nukus",
           415700
          ],
          [
           "Pittsburgh",
           413849
          ],
          [
           "Gangneung",
           412931
          ],
          [
           "Charleston",
           411711
          ],
          [
           "Little Rock",
           408425
          ],
          [
           "Cordoba",
           408356
          ],
          [
           "Usak",
           404342
          ],
          [
           "Kiziltepe",
           401087
          ],
          [
           "Lijiang",
           399435
          ],
          [
           "Tokat",
           398316
          ],
          [
           "Port Saint Lucie",
           397426
          ],
          [
           "Livorno",
           393929
          ],
          [
           "Grand Rapids",
           393872
          ],
          [
           "Youssoufia",
           393117
          ],
          [
           "Rzeszow",
           392510
          ],
          [
           "Reno",
           392060
          ],
          [
           "Groningen",
           391518
          ],
          [
           "Afyonkarahisar",
           384865
          ],
          [
           "Bukhara",
           383557
          ],
          [
           "Palencia",
           381916
          ],
          [
           "Asahikawa",
           378661
          ],
          [
           "Boise",
           378251
          ],
          [
           "Panshi",
           376181
          ],
          [
           "Geneve",
           372324
          ],
          [
           "Chattanooga",
           368976
          ],
          [
           "Trabzon",
           363903
          ],
          [
           "Ulm",
           362460
          ],
          [
           "Hakodate",
           359911
          ],
          [
           "Neumuenster",
           359844
          ],
          [
           "San Sebastian",
           358921
          ],
          [
           "Shache",
           357503
          ],
          [
           "Spokane",
           357313
          ],
          [
           "Baturaja",
           357252
          ],
          [
           "Corum",
           356696
          ],
          [
           "Almeria",
           356185
          ],
          [
           "Karamay",
           355142
          ],
          [
           "Pulandian",
           354868
          ],
          [
           "Urganch",
           353398
          ],
          [
           "Legnica",
           351678
          ],
          [
           "Qarshi",
           347200
          ],
          [
           "Zwickau",
           346016
          ],
          [
           "Fuyu",
           345612
          ],
          [
           "Madison",
           345439
          ],
          [
           "Balikesir",
           344848
          ],
          [
           "Pescara",
           340527
          ],
          [
           "Albany",
           337576
          ],
          [
           "Fort Collins",
           337240
          ],
          [
           "Zrenjanin",
           337108
          ],
          [
           "Foggia",
           332161
          ],
          [
           "Graz",
           328336
          ],
          [
           "Larisa",
           327416
          ],
          [
           "Louisville",
           327331
          ],
          [
           "Grenoble",
           323810
          ],
          [
           "Wangkui",
           322160
          ],
          [
           "Bergen",
           321549
          ],
          [
           "Catanzaro",
           317926
          ],
          [
           "Pangkalpinang",
           317643
          ],
          [
           "Huntsville",
           317405
          ],
          [
           "Singkawang",
           316828
          ],
          [
           "Kassel",
           316650
          ],
          [
           "Sibolga",
           314689
          ],
          [
           "Rochester",
           304075
          ],
          [
           "Isparta",
           303129
          ],
          [
           "Mut",
           300102
          ],
          [
           "Tarakan",
           299355
          ],
          [
           "Sabang",
           297095
          ],
          [
           "Yushu",
           296942
          ],
          [
           "Caen",
           296596
          ],
          [
           "Plock",
           296136
          ],
          [
           "Evreux",
           292270
          ],
          [
           "Polewali",
           291137
          ],
          [
           "Gela",
           290215
          ],
          [
           "Appleton",
           288834
          ],
          [
           "Narbonne",
           285163
          ],
          [
           "Guercif",
           281952
          ],
          [
           "Tottori",
           281004
          ],
          [
           "Indio",
           278339
          ],
          [
           "Perugia",
           277789
          ],
          [
           "Norwich",
           277514
          ],
          [
           "Bireun",
           276776
          ],
          [
           "Ksar El Kebir",
           276731
          ],
          [
           "Edirne",
           274695
          ],
          [
           "Metz",
           273283
          ],
          [
           "Tarragona",
           271839
          ],
          [
           "Greenville",
           269739
          ],
          [
           "Taranto",
           269685
          ],
          [
           "Dunhua",
           269486
          ],
          [
           "Bolzano",
           269196
          ],
          [
           "Fayetteville",
           268347
          ],
          [
           "Shreveport",
           265298
          ],
          [
           "Sabt Alalayah",
           263770
          ],
          [
           "Palopo",
           263143
          ],
          [
           "Norrkoeping",
           260438
          ],
          [
           "Savannah",
           258789
          ],
          [
           "Odessa",
           251918
          ],
          [
           "Nador",
           251665
          ],
          [
           "Jaen",
           249555
          ],
          [
           "Reims",
           247822
          ],
          [
           "Merida",
           243477
          ],
          [
           "Steyr",
           243177
          ],
          [
           "Bern",
           242376
          ],
          [
           "Karabuek",
           242337
          ],
          [
           "Cedar Rapids",
           241955
          ],
          [
           "Sereflikochisar",
           241838
          ],
          [
           "Sofifi",
           241198
          ],
          [
           "Burgos",
           238966
          ],
          [
           "Trieste",
           238766
          ],
          [
           "Coimbra",
           237230
          ],
          [
           "Prattville",
           236023
          ],
          [
           "Nowy Sacz",
           235938
          ],
          [
           "South Bend",
           235108
          ],
          [
           "Tours",
           232747
          ],
          [
           "Bekobod",
           231498
          ],
          [
           "Sandnes",
           230263
          ],
          [
           "Ruteng",
           230257
          ],
          [
           "Raha",
           229228
          ],
          [
           "Fredrikstad",
           228902
          ],
          [
           "Salinas",
           227867
          ],
          [
           "Torrelavega",
           227341
          ],
          [
           "Kalisz",
           226093
          ],
          [
           "Gulin",
           224879
          ],
          [
           "Tsuruoka",
           224730
          ],
          [
           "Rethymno",
           223532
          ],
          [
           "Cizre",
           223452
          ],
          [
           "Fredericia",
           221749
          ],
          [
           "Davenport",
           219388
          ],
          [
           "Regensburg",
           218468
          ],
          [
           "Cagliari",
           215877
          ],
          [
           "Jizzax",
           215700
          ],
          [
           "Menglang",
           215651
          ],
          [
           "Patra",
           214933
          ],
          [
           "Navoiy",
           214765
          ],
          [
           "Macon",
           212092
          ],
          [
           "Mengmao",
           211218
          ],
          [
           "Dompu",
           210127
          ],
          [
           "Otofuke",
           210086
          ],
          [
           "Brest",
           208748
          ],
          [
           "Jizan",
           208477
          ],
          [
           "Patnos",
           207841
          ],
          [
           "Ostroda",
           205327
          ],
          [
           "Palm Bay",
           204438
          ],
          [
           "Clay",
           202348
          ],
          [
           "Innsbruck",
           200124
          ],
          [
           "Clarksville",
           198927
          ],
          [
           "Zielona Gora",
           197566
          ],
          [
           "Terni",
           197391
          ],
          [
           "Oroqen Zizhiqi",
           197342
          ],
          [
           "Marsala",
           196980
          ],
          [
           "Wuyishan",
           196965
          ],
          [
           "Santa Maria",
           196596
          ],
          [
           "Eskilstuna",
           195158
          ],
          [
           "Fargo",
           194125
          ],
          [
           "Calais",
           192733
          ],
          [
           "Cimin",
           190305
          ],
          [
           "Bryan",
           190007
          ],
          [
           "Gulfport",
           188822
          ],
          [
           "Yozgat",
           188269
          ],
          [
           "Ardesen",
           187793
          ],
          [
           "Wuerzburg",
           187743
          ],
          [
           "Tyler",
           185987
          ],
          [
           "El Jadid",
           184689
          ],
          [
           "Lhasa",
           181121
          ],
          [
           "Jiaohe",
           180010
          ],
          [
           "Evansville",
           178985
          ],
          [
           "Lianhe",
           178685
          ],
          [
           "Ende",
           174989
          ],
          [
           "Dogubayazit",
           171871
          ],
          [
           "Sassari",
           171156
          ],
          [
           "Derry",
           170805
          ],
          [
           "Kefamenanu",
           170588
          ],
          [
           "Ancona",
           169230
          ],
          [
           "Kolding",
           168968
          ],
          [
           "Lecce",
           167836
          ],
          [
           "Leeuwarden",
           167329
          ],
          [
           "Siirt",
           167057
          ],
          [
           "Hailun",
           167005
          ],
          [
           "Kwidzyn",
           165203
          ],
          [
           "Miyang",
           164235
          ],
          [
           "East Lansing",
           163527
          ],
          [
           "Jalai Nur",
           162636
          ],
          [
           "Cottbus",
           160487
          ],
          [
           "Klagenfurt am Woerthersee",
           159198
          ],
          [
           "Yebaishou",
           156954
          ],
          [
           "Abashiri",
           154054
          ],
          [
           "Barabai",
           153724
          ],
          [
           "Marburg an der Lahn",
           153306
          ],
          [
           "Kolobrzeg",
           151827
          ],
          [
           "Pordenone",
           150048
          ],
          [
           "Yuksekova",
           149428
          ],
          [
           "Sandefjord",
           149317
          ],
          [
           "Ayvalik",
           148862
          ],
          [
           "Chengxian Chengguanzhen",
           148031
          ],
          [
           "West Lynchburg",
           145329
          ],
          [
           "Roanoke",
           144112
          ],
          [
           "Manggar",
           142197
          ],
          [
           "Dushanzi",
           141948
          ],
          [
           "Wismar",
           141896
          ],
          [
           "Oltinko`l",
           139212
          ],
          [
           "Ahlat",
           137917
          ],
          [
           "Tarbes",
           134803
          ],
          [
           "Camara de Lobos",
           133056
          ],
          [
           "Goerlitz",
           132970
          ],
          [
           "Zamosc",
           129983
          ],
          [
           "Champaign",
           128407
          ],
          [
           "Battle Creek",
           127630
          ],
          [
           "Ciudad Real",
           125856
          ],
          [
           "Poitiers",
           123170
          ],
          [
           "Afsin",
           120069
          ],
          [
           "Kingsport",
           119041
          ],
          [
           "Longnan",
           118364
          ],
          [
           "Wilkes-Barre",
           117898
          ],
          [
           "Ostroleka",
           117463
          ],
          [
           "Lafayette",
           116661
          ],
          [
           "Vannes",
           112132
          ],
          [
           "Stralsund",
           111707
          ],
          [
           "Waterloo",
           109715
          ],
          [
           "East Pensacola Heights",
           107297
          ],
          [
           "Drama",
           103110
          ],
          [
           "North La Crosse",
           102776
          ],
          [
           "Kavala",
           102248
          ],
          [
           "Castres",
           99684
          ],
          [
           "Montelimar",
           99501
          ],
          [
           "Harrisonburg",
           99135
          ],
          [
           "Alexandroupoli",
           98610
          ],
          [
           "Seydisehir",
           95549
          ],
          [
           "Piombino",
           94963
          ],
          [
           "Puerto del Rosario",
           94794
          ],
          [
           "Miyako",
           94257
          ],
          [
           "Beja",
           90380
          ],
          [
           "Miyakojima",
           89262
          ],
          [
           "State College",
           87505
          ],
          [
           "Prescott Valley",
           84096
          ],
          [
           "Masohi",
           84086
          ],
          [
           "El Centro",
           84009
          ],
          [
           "Trollhaettan",
           83354
          ],
          [
           "Faro",
           79842
          ],
          [
           "Lima",
           79022
          ],
          [
           "Borlaenge",
           78955
          ],
          [
           "Panama City",
           70745
          ],
          [
           "Lufkin",
           70227
          ]
         ],
         "geo": "geo",
         "hovertemplate": "lat=%{lat}<br>lon=%{lon}<br>central city=%{customdata[0]}<br>total pop=%{customdata[1]}<extra></extra>",
         "lat": [
          22.545539999999995,
          35.6895,
          39.52078999999999,
          31.222219999999993,
          40.71426999999999,
          -6.21462,
          37.566,
          41.01384000000001,
          31.568869999999993,
          51.50853,
          34.69374,
          30.666669999999996,
          30.293649999999996,
          34.05223,
          30.583329999999993,
          29.560259999999996,
          32.06167,
          34.25833,
          25.047759999999993,
          36.28388999999999,
          40.4165,
          23.35489,
          41.79222,
          35.18146999999999,
          24.479789999999998,
          36.18527999999999,
          29.878189999999993,
          29.456789999999998,
          21.426639999999992,
          35.10168000000001,
          48.85341,
          52.52436999999999,
          34.75777999999999,
          41.85003,
          28.198740000000008,
          41.38878999999999,
          41.10777999999999,
          36.79056,
          37.86943999999999,
          32.78306,
          45.75,
          50.93332999999999,
          -6.99306,
          31.86389,
          -7.2491699999999994,
          53.55073,
          38.04139,
          43.88,
          26.06139,
          -6.922219999999999,
          39.91987,
          36.34913000000001,
          33.6,
          33.44838,
          25.038889999999995,
          52.48142000000001,
          50.850449999999995,
          33.94917,
          29.34162,
          33.56394,
          32.49069000000001,
          22.761009999999995,
          53.41058,
          34.204420000000006,
          3.58333,
          27.776049999999994,
          39.63333,
          37.33939,
          52.22977,
          30.79507999999999,
          25.774269999999998,
          36.609989999999996,
          35.870279999999994,
          33.58831,
          38.41273,
          34.01324999999999,
          40.19559,
          38.895109999999995,
          52.37402999999999,
          29.763280000000005,
          37.47649,
          42.35843,
          36.54695999999999,
          40.85216,
          35.06305999999999,
          43.80096,
          41.27194,
          41.891929999999995,
          45.46426999999999,
          33.877219999999994,
          38.872879999999995,
          21.233909999999995,
          30.81600999999999,
          37.98376,
          50.25841,
          53.38297000000001,
          32.99472000000001,
          32.62639,
          34.65,
          32.71571,
          48.20848999999999,
          43.06667,
          33.58861,
          36.91766,
          -6.706299999999999,
          21.98247,
          39.95237999999999,
          22.61626,
          59.32938,
          42.33142999999999,
          31.467839999999992,
          28.68396,
          41.264649999999996,
          38.26667,
          24.324049999999996,
          47.60621,
          38.98082,
          43.29695,
          55.67594,
          30.9525,
          35.405,
          51.92250000000001,
          40.651599999999995,
          24.46861,
          26.234199999999998,
          46.583330000000004,
          36.625539999999994,
          50.11552,
          28.136799999999994,
          34.59845,
          51.31568,
          34.579519999999995,
          33.3575,
          37.05944,
          39.81609,
          26.402379999999997,
          27.833330000000007,
          48.78232,
          31.619899999999998,
          51.45523,
          44.316669999999995,
          44.97997,
          28.890299999999993,
          34.23222,
          32.0422,
          37.91362999999998,
          30.66133999999999,
          36.908120000000004,
          31.210599999999985,
          25.116259999999997,
          25.280220000000003,
          26.434419999999996,
          29.562269999999998,
          34.03313,
          36.56667,
          31.992499999999996,
          36.85293,
          36.6,
          38.58156999999999,
          34.7,
          27.947519999999994,
          38.71666999999999,
          36.17497,
          37.36667,
          21.85563,
          48.13743,
          45.74846,
          29.03205,
          44.80401,
          24.288589999999996,
          29.424119999999995,
          34.86471999999999,
          30.714439999999996,
          40.47237,
          40.76078,
          37.88636999999999,
          24.1469,
          34.36590999999999,
          -5.316599999999999,
          36.45063999999999,
          52.03332999999999,
          33.749,
          -7.706229999999998,
          35.08676,
          32.80589,
          35.239290000000004,
          29.70475,
          34.98333000000001,
          37.98704,
          1.1493700000000002,
          37.5732,
          -5.429169999999999,
          30.35028,
          45.52344999999999,
          22.630500000000005,
          35.76727,
          27.688059999999997,
          39.09973,
          35.7721,
          35.02306,
          35.22708999999999,
          24.799999999999997,
          50.77663999999999,
          60.169519999999984,
          45.29322,
          30.267150000000004,
          39.76838,
          40.664719999999996,
          1.0594899999999998,
          38.73222,
          45.07048999999999,
          47.20417,
          29.709970000000006,
          -0.49167,
          29.374549999999992,
          23.39483,
          41.49949999999999,
          31.566669999999995,
          55.86515,
          36.72016,
          37.4,
          33.07507,
          39.96118,
          -0.9492399999999998,
          -6.888599999999999,
          36.33333,
          36.65,
          51.77058,
          52.37052,
          28.538339999999998,
          43.0389,
          49.4891,
          18.24306,
          39.776669999999996,
          36.16588999999998,
          32.68,
          27.935570000000002,
          26.423889999999997,
          36.49889,
          54.97328,
          24.41667,
          40.61205000000001,
          25.584739999999996,
          43.26271,
          37.382829999999984,
          39.93166999999999,
          30.332180000000005,
          41.12066,
          35.467560000000006,
          -8.65,
          44.49381,
          54.35227,
          37.739079999999994,
          50.903949999999995,
          53.48095000000001,
          43.77924999999999,
          50.06143000000001,
          35.53916999999999,
          23.48054,
          42.10148,
          50.63296999999999,
          43.161429999999996,
          26.32599,
          53.07581999999999,
          51.099999999999994,
          49.45421,
          36.74773,
          26.585089999999994,
          47.36667,
          26.212999999999997,
          30.394669999999998,
          59.912729999999996,
          41.93852999999999,
          -3.3198699999999994,
          44.54804,
          31.75872,
          37.107499999999995,
          41.149609999999996,
          51.05089000000001,
          41.65606,
          32.75,
          47.57602000000001,
          38.1166,
          51.53782,
          35.08449,
          29.954650000000004,
          43.703129999999994,
          32.44201,
          33.23333,
          42.015559999999994,
          42.888250000000006,
          39.811209999999996,
          31.033609999999996,
          44.05305,
          32.22174,
          40.64361,
          47.9959,
          53.1235,
          1.48218,
          36.68645,
          39.419019999999996,
          55.95206,
          -1.6,
          36.07264,
          37.49222999999999,
          28.09973,
          37.6391,
          39.02587,
          33.50972,
          28.46824,
          54.59682,
          40.816669999999995,
          -3.4702999999999995,
          38.627269999999996,
          57.70716,
          29.84347,
          45.40796999999999,
          44.404779999999995,
          51.44082999999999,
          52.40692000000001,
          27.11716,
          44.30230000000001,
          37.88738,
          38.41257999999999,
          44.05755,
          40.78056,
          52.26594000000001,
          29.711389999999998,
          31.018939999999997,
          18.299999999999994,
          37.80544,
          38.31124,
          40.78206,
          40.977819999999994,
          36.598890000000004,
          35.36666999999999,
          25.364669999999997,
          43.83665,
          21.306939999999997,
          26.585829999999998,
          23.363059999999997,
          -8.650299999999996,
          36.58718,
          51.842499999999994,
          39.56938999999999,
          19.52134,
          34.68139,
          51.03739999999999,
          30.29999999999999,
          49.211409999999994,
          36.0526,
          19.102669999999996,
          50.9787,
          42.886449999999996,
          53.7446,
          41.261939999999996,
          44.01758999999999,
          29.294700000000006,
          26.562849999999997,
          51.96236,
          38.0498,
          41.279759999999996,
          24.586629999999996,
          52.21833,
          39.7,
          37.16707999999999,
          47.21725,
          37.78551999999999,
          41.82399,
          53.42893999999998,
          39.71667,
          40.83888999999999,
          52.12773,
          25.09617,
          41.159169999999996,
          29.34936,
          35.25164999999999,
          43.37134999999999,
          24.499999999999996,
          51.25,
          38.67430999999999,
          45.43854,
          42.26833,
          49.23262,
          -2.53371,
          49.009370000000004,
          34.1975,
          42.23282,
          37.84501,
          24.155409999999996,
          36.06443,
          35.37329,
          56.156740000000006,
          51.55797,
          48.58392,
          46.2454,
          42.998059999999995,
          41.60054,
          38.19393999999999,
          44.01667,
          44.840439999999994,
          26.20341,
          38.02096000000001,
          32.8627,
          42.45306,
          40.44062,
          37.75266,
          32.77657,
          34.74648,
          37.89155000000001,
          38.67351,
          37.18836,
          26.868790000000004,
          40.313889999999994,
          27.293929999999996,
          43.54427,
          42.96336,
          32.24634,
          50.04131999999999,
          39.52963,
          53.21917,
          38.75666999999999,
          39.774719999999995,
          42.00955,
          43.77063,
          43.613499999999995,
          42.942220000000006,
          46.20221999999999,
          35.04563,
          41.005,
          48.39840999999999,
          41.775830000000006,
          54.07476999999999,
          43.31283,
          38.41667,
          47.65966,
          -4.128909999999999,
          40.54889,
          36.838139999999996,
          45.58473,
          39.39528,
          41.55339,
          51.21006,
          38.86056,
          50.72723999999999,
          45.18332999999999,
          43.073049999999995,
          39.64917,
          42.45839999999999,
          42.65257999999999,
          40.58525999999999,
          45.38361,
          41.45844999999999,
          47.06667,
          39.636889999999994,
          38.25424,
          45.17869,
          46.832139999999995,
          60.39298999999999,
          38.88247,
          -2.12914,
          34.7304,
          0.90925,
          51.31667,
          1.7401599999999997,
          43.15478000000001,
          37.76444,
          36.64389,
          3.3133199999999996,
          5.889689999999999,
          44.82750999999999,
          49.185849999999995,
          52.54682,
          49.02414,
          -3.4323999999999995,
          37.07381,
          44.26192999999999,
          43.18396,
          34.22568,
          35.49999999999999,
          33.720699999999994,
          43.1122,
          52.62783,
          5.203,
          35.00044,
          41.67719,
          49.119110000000006,
          41.119049999999994,
          35.61266,
          40.46437999999999,
          43.36954000000001,
          46.490669999999994,
          36.06258,
          32.52514999999999,
          19.577299999999997,
          -2.9924999999999997,
          58.59418999999998,
          32.08353999999999,
          31.84568,
          35.16812999999999,
          37.76922,
          49.26526,
          38.91611000000001,
          48.042739999999995,
          46.94809,
          41.204879999999996,
          42.00833,
          38.939249999999994,
          0.7372899999999999,
          42.34106,
          45.64952999999999,
          40.205639999999995,
          32.46402,
          49.62177,
          41.68338,
          47.39484,
          40.22083,
          58.85244000000001,
          -8.611389999999997,
          -4.837999999999999,
          59.2181,
          36.67774,
          43.34943,
          51.76109000000001,
          28.042229999999993,
          38.721669999999996,
          35.36554999999999,
          37.33024,
          55.56567999999999,
          41.52364,
          49.01513,
          39.23054,
          40.12340999999999,
          22.562140000000003,
          38.24443999999999,
          40.08444,
          32.84069,
          24.00139,
          -8.536500000000002,
          42.99167,
          48.39029000000001,
          16.88917,
          39.22492999999999,
          53.69671,
          28.034459999999996,
          43.1859,
          47.26266,
          36.52977,
          51.93548,
          42.56334999999999,
          50.56667,
          37.79919999999999,
          27.759949999999993,
          34.95303,
          59.36661,
          46.87719,
          50.95194000000001,
          39.70947,
          30.67436,
          30.367420000000003,
          39.82,
          41.19064,
          49.79391,
          32.35126,
          33.25681999999999,
          29.650000000000006,
          43.721329999999995,
          37.974759999999996,
          47.13333,
          -8.8432,
          39.54694,
          40.72585999999999,
          54.99810000000001,
          -9.44667,
          43.5942,
          55.490399999999994,
          40.35481000000001,
          53.20138999999999,
          37.9293,
          47.44662999999999,
          53.72495,
          24.404170000000004,
          42.73698,
          49.45,
          51.75769,
          46.62472,
          41.397499999999994,
          44.02127,
          -2.5833299999999997,
          50.80904,
          54.17565,
          45.95689,
          37.573620000000005,
          59.13117999999999,
          39.31927,
          33.74775,
          37.4032,
          37.27097,
          -2.88333,
          44.33333,
          53.893139999999995,
          43.06874,
          38.7489,
          43.234069999999996,
          32.65043,
          51.15518,
          50.723139999999994,
          40.116419999999984,
          42.3173,
          38.98626,
          46.58261,
          38.24768999999999,
          36.54843,
          33.39791,
          41.24591,
          53.08621000000001,
          40.4167,
          47.656879999999994,
          54.30910999999998,
          42.492760000000004,
          30.428810000000006,
          41.15283,
          43.84635,
          40.939589999999995,
          43.60527,
          44.55468,
          38.44957,
          40.84995,
          37.41926,
          42.92554,
          28.500380000000003,
          39.64691,
          38.01506,
          24.79016,
          40.79339,
          34.61002,
          -3.298329999999999,
          32.791999999999994,
          58.28365000000001,
          37.01868999999999,
          40.74255,
          60.48579999999998,
          30.15945999999999,
          31.338239999999992
         ],
         "legendgroup": "",
         "lon": [
          114.0683,
          139.69170999999997,
          116.71470999999997,
          121.45806000000002,
          -74.00597,
          106.84512999999998,
          126.9784,
          28.949659999999998,
          120.28857000000002,
          -0.12574,
          135.50217999999998,
          104.06667,
          120.16141999999998,
          -118.24368,
          114.26667,
          106.55770999999999,
          118.77777999999999,
          108.92861,
          121.53184999999999,
          120.00333,
          -3.702559999999999,
          116.67876,
          123.43277999999998,
          136.90641,
          118.08186999999997,
          117.12000000000002,
          121.54944999999998,
          119.88872,
          39.82562999999999,
          129.03003999999999,
          2.3488,
          13.41053,
          113.64861,
          -87.65005,
          112.97086999999999,
          2.15899,
          121.14167,
          118.06332999999997,
          112.56027999999999,
          -96.80667,
          126.64999999999999,
          6.949999999999999,
          110.42083,
          117.28083000000001,
          112.75082999999998,
          9.99302,
          114.47861,
          125.32277999999997,
          119.30610999999999,
          107.60693999999998,
          32.85427,
          127.38493,
          130.41667,
          -112.07403999999998,
          102.71832999999998,
          -1.89983,
          4.34878,
          118.29583,
          104.77689,
          114.04272000000002,
          119.90812,
          108.48358999999999,
          -2.97794,
          117.28386,
          98.66666999999998,
          120.65859,
          118.18332999999997,
          -121.89496,
          21.01178,
          106.08473,
          -80.19366,
          114.48764,
          128.59111,
          -7.61138,
          27.138379999999998,
          -6.83255,
          29.060130000000004,
          -77.03637,
          4.889689999999999,
          -95.36326999999999,
          121.44081,
          -71.05977,
          104.17023,
          14.26811,
          118.34278000000002,
          87.60045999999998,
          123.17306,
          12.51133,
          9.18951,
          115.77028000000001,
          115.46246000000001,
          110.38749,
          108.37406999999999,
          23.72784,
          19.02754,
          -1.4659,
          112.53278,
          116.99693999999998,
          133.93333000000004,
          -117.16472,
          16.37208,
          141.34999999999997,
          119.01917,
          34.89276999999999,
          108.557,
          108.65061,
          -75.16361999999998,
          120.31332999999998,
          18.06871,
          -83.04574999999998,
          104.68168,
          115.85305999999999,
          69.21627,
          140.86667,
          109.40697999999999,
          -122.33207000000002,
          106.38919999999999,
          5.38107,
          12.565529999999999,
          118.75528,
          116.58139,
          4.47917,
          109.84389,
          39.61417,
          105.42599999999999,
          125.00000000000001,
          101.75738999999999,
          8.684169999999998,
          106.822,
          119.21556,
          12.31979,
          105.74237999999998,
          120.15730000000002,
          37.3825,
          109.97763,
          112.85907999999999,
          114.39999999999999,
          9.17702,
          113.99779999999998,
          -2.59665,
          126.8,
          -93.26384,
          105.42574999999998,
          132.56658,
          112.14478999999999,
          40.217209999999994,
          117.47782999999997,
          30.69556,
          107.46308,
          99.16365999999998,
          110.29639,
          50.10325999999999,
          103.76386,
          -5.00028,
          139.88333,
          116.24722,
          -75.97799,
          136.61667000000003,
          -121.4944,
          137.73333,
          -82.45842999999999,
          -9.13333,
          -115.13722000000001,
          118.01667,
          111.96272,
          11.57549,
          4.84671,
          111.69844000000002,
          20.465129999999995,
          116.11768,
          -98.49362999999998,
          117.55416999999998,
          111.28472,
          71.72463,
          -111.89104999999999,
          139.00589,
          120.6839,
          107.35904,
          119.3661,
          116.00247,
          8.53333,
          -84.38797999999998,
          114.00975999999999,
          -90.05675999999998,
          130.69181,
          115.47358,
          116.00206000000001,
          138.38333,
          -1.1300399999999997,
          104.02490999999999,
          32.77446,
          105.26111,
          112.19028,
          -122.67620999999998,
          110.14686,
          -5.79975,
          111.42943999999999,
          -94.57856999999998,
          -78.63861,
          110.99278,
          -80.84312999999999,
          113.58333,
          6.083419999999999,
          24.93545,
          130.96216999999996,
          -97.74306,
          -86.15804000000001,
          122.23175999999997,
          101.29054,
          35.48528000000001,
          7.686819999999999,
          123.63332999999999,
          107.39390999999999,
          117.14583000000002,
          113.09480999999998,
          110.07434,
          -81.69540999999998,
          130.54999999999998,
          -4.257629999999999,
          -4.42034,
          140.38333,
          107.02214,
          -82.99879,
          100.35427,
          109.67530000000001,
          139.01667,
          138.18333,
          19.473949999999995,
          9.73322,
          -81.37923999999998,
          -87.90647,
          8.46694,
          109.505,
          30.520559999999996,
          -86.78444,
          109.01721999999998,
          109.59960999999998,
          111.61305999999999,
          111.70472,
          -1.61396,
          111.51666999999999,
          115.06463000000001,
          100.21228999999998,
          -2.9252799999999994,
          -5.973169999999999,
          119.58832999999998,
          -81.65565,
          16.869819999999997,
          -97.51643,
          115.21667,
          11.338749999999997,
          18.64912,
          115.68348,
          -1.4042799999999998,
          -2.23743,
          11.246259999999998,
          19.93658,
          106.68610999999999,
          111.28847999999999,
          -72.58980999999999,
          3.05858,
          124.37784999999997,
          43.97497,
          8.80717,
          17.03333,
          11.077520000000002,
          -119.77236999999997,
          101.71276,
          8.549999999999999,
          127.67850999999999,
          -9.20897,
          10.74609,
          126.41965000000002,
          114.59074999999999,
          129.62594,
          -106.48693,
          79.93548,
          -8.61099,
          13.73832,
          -0.8773399999999999,
          129.88332999999997,
          130.81311,
          13.363599999999998,
          0.71433,
          -106.65114,
          -90.07507,
          7.2660800000000005,
          105.823,
          131.6,
          121.65889,
          129.50240999999997,
          98.28617999999999,
          112.20472,
          80.87172999999999,
          -110.92648,
          22.93086,
          7.852219999999999,
          18.00762,
          124.84891999999999,
          -6.13606,
          67.26117999999998,
          -3.19648,
          103.61667,
          -79.79198,
          15.070409999999997,
          -15.41343,
          -120.99688,
          43.35964,
          126.52193999999997,
          -16.254619999999996,
          -5.92541,
          140.73333,
          102.5207,
          -90.19789,
          11.966789999999998,
          114.32200999999999,
          11.885859999999997,
          8.944389999999999,
          5.477779999999999,
          16.92993,
          114.97926999999999,
          86.03693999999999,
          41.13221,
          -82.70904999999999,
          12.56528,
          30.403330000000004,
          10.526729999999999,
          118.31249999999999,
          109.45949,
          42.73333,
          29.042359999999995,
          116.85334,
          72.34424,
          37.89047,
          109.49166999999998,
          132.76666999999998,
          49.58763999999999,
          4.35788,
          -157.85832999999997,
          107.97972,
          104.25047,
          116.53179999999998,
          36.17347,
          5.85278,
          2.65024,
          109.57895,
          -1.9085799999999995,
          21.071259999999995,
          109.48332999999998,
          119.75581999999999,
          -95.79081999999998,
          108.66565,
          11.032830000000002,
          -78.87836999999999,
          -0.33524999999999994,
          -95.86082999999999,
          1.3541999999999998,
          117.20788999999999,
          -81.94953,
          7.62571,
          -84.45854999999999,
          36.336099999999995,
          98.68934,
          6.89583,
          141.15,
          38.79391999999999,
          -1.55336,
          38.62369999999999,
          -71.41283,
          14.55302,
          140.11666999999997,
          31.163890000000002,
          11.629159999999999,
          104.90639,
          27.799999999999997,
          110.54407,
          -3.9372299999999996,
          -8.396,
          108.66666999999998,
          22.566669999999995,
          39.22321,
          10.993799999999998,
          118.96361,
          7.00982,
          140.71813,
          8.40444,
          -119.17705000000001,
          -8.72264,
          27.83963,
          47.33456999999999,
          136.22257,
          -119.01870999999998,
          10.210759999999999,
          -1.78116,
          7.74553,
          -119.19616999999997,
          21.94611,
          -93.60911000000002,
          15.552560000000001,
          20.916669999999996,
          -0.5804999999999999,
          -98.23001,
          36.497299999999996,
          -6.57359,
          59.610279999999996,
          -79.99589,
          128.87239,
          -79.93092,
          -92.28958999999999,
          -4.77275,
          29.4058,
          40.57723,
          100.22071999999999,
          36.55444,
          -80.35033,
          10.326149999999998,
          -85.66809,
          -8.52941,
          21.99901,
          -119.81379999999999,
          6.566670000000001,
          30.54333,
          64.42861,
          -4.5240599999999995,
          142.36489,
          -116.20345,
          126.05610999999999,
          6.145689999999999,
          -85.30967999999999,
          39.726940000000006,
          9.99155,
          140.73666999999998,
          9.98195,
          -1.9749899999999998,
          77.24056,
          -117.42908,
          104.16694999999999,
          34.95333,
          -2.45974,
          84.88723999999999,
          121.96694000000001,
          60.620569999999994,
          16.1619,
          65.78905,
          12.488389999999999,
          124.81667000000002,
          -89.40123,
          27.886109999999995,
          14.202829999999999,
          -73.75623,
          -105.08442,
          20.381939999999997,
          15.55188,
          15.449999999999996,
          22.41761,
          -85.75941,
          5.714789999999999,
          126.47657,
          5.32415,
          16.600859999999997,
          106.11376999999999,
          -86.58594,
          108.98463,
          9.5,
          98.78117,
          -77.61555999999999,
          30.552220000000002,
          33.43885,
          117.59151999999997,
          95.31644,
          126.54063,
          -0.35912000000000005,
          19.706379999999996,
          1.15082,
          119.3435,
          14.240379999999998,
          -88.41538,
          3.0014099999999995,
          -3.3536099999999998,
          134.23333,
          -116.21677,
          12.38878,
          1.29834,
          96.70090000000002,
          -5.903779999999999,
          26.555969999999995,
          6.172689999999999,
          1.24544,
          -77.36635,
          17.247069999999997,
          128.22861,
          11.339819999999998,
          -94.15743,
          -93.75018,
          41.96357,
          120.19694,
          16.1826,
          -81.09982999999998,
          -102.36764,
          -2.93352,
          -3.790279999999999,
          4.02853,
          -6.34366,
          14.42127,
          7.447439999999999,
          32.62767999999999,
          -91.64407,
          33.538599999999995,
          127.55880000000002,
          -3.7018399999999994,
          13.776780000000002,
          -8.41955,
          -86.45969999999998,
          20.69705,
          -86.25001,
          0.7039799999999999,
          69.26972,
          5.7352099999999995,
          120.46443999999997,
          122.7209,
          10.929799999999998,
          -121.6555,
          -4.04785,
          18.09102,
          105.81037999999998,
          139.82167,
          24.48232,
          42.184839999999994,
          9.752569999999999,
          -90.57764,
          12.10161,
          9.119169999999999,
          67.82842,
          99.91029,
          21.73444,
          65.37917,
          -83.63239999999999,
          97.86499,
          118.4634,
          143.20028,
          -4.48628,
          42.55111,
          42.85692999999999,
          19.964859999999998,
          -80.58866,
          -76.17243,
          11.39454,
          -87.35944999999998,
          15.506430000000002,
          12.64329,
          123.71667000000001,
          12.436699999999998,
          118.03065999999997,
          -120.43571999999999,
          16.5077,
          -96.78979999999999,
          1.8563499999999997,
          39.700149999999994,
          -96.36996,
          -89.09282000000002,
          34.80444,
          40.97934999999999,
          9.95121,
          -95.30105999999999,
          -8.50882,
          91.1,
          127.33473,
          -87.55585000000002,
          129.27426,
          121.6623,
          44.08416999999999,
          8.555520000000001,
          -7.30934,
          124.47806,
          13.50337,
          9.472159999999999,
          18.17244,
          5.808589999999999,
          41.94134,
          126.92475,
          18.931139999999996,
          103.44277999999998,
          -84.48386999999998,
          117.7,
          14.328880000000002,
          14.305279999999998,
          119.64082999999997,
          144.26971,
          115.38332999999999,
          8.77069,
          15.58342,
          12.66051,
          44.28716000000001,
          10.21665,
          26.693409999999997,
          105.73293999999999,
          -79.17808000000001,
          -79.94143,
          108.26667,
          84.85000000000001,
          11.45286,
          58.90372,
          42.48007,
          0.07138999999999998,
          -16.97718,
          14.98853,
          23.25196,
          -88.24337999999999,
          -85.17815999999999,
          -3.92907,
          0.34347999999999995,
          36.91399,
          -82.56181999999998,
          104.91702999999998,
          -75.88131,
          21.575659999999996,
          -86.87529,
          -2.76205,
          13.0818,
          -92.34295999999999,
          -87.17997,
          24.147299999999998,
          -91.24818999999998,
          24.40687,
          2.2408799999999998,
          4.754689999999999,
          -78.86892,
          25.87644,
          31.845270000000003,
          10.52585,
          -13.86272,
          141.94057,
          -7.863229999999999,
          125.31108999999998,
          -77.86,
          -112.31571999999998,
          128.96882,
          -115.56305000000002,
          12.288639999999997,
          -7.927159999999999,
          -84.10523,
          15.43714,
          -85.65982999999999,
          -94.72909999999999
         ],
         "marker": {
          "color": "#636efa",
          "symbol": "circle"
         },
         "mode": "markers",
         "name": "",
         "showlegend": false,
         "type": "scattergeo"
        }
       ],
       "layout": {
        "geo": {
         "center": {},
         "domain": {
          "x": [
           0,
           1
          ],
          "y": [
           0,
           1
          ]
         }
        },
        "legend": {
         "tracegroupgap": 0
        },
        "margin": {
         "t": 60
        },
        "template": {
         "data": {
          "bar": [
           {
            "error_x": {
             "color": "#2a3f5f"
            },
            "error_y": {
             "color": "#2a3f5f"
            },
            "marker": {
             "line": {
              "color": "#E5ECF6",
              "width": 0.5
             },
             "pattern": {
              "fillmode": "overlay",
              "size": 10,
              "solidity": 0.2
             }
            },
            "type": "bar"
           }
          ],
          "barpolar": [
           {
            "marker": {
             "line": {
              "color": "#E5ECF6",
              "width": 0.5
             },
             "pattern": {
              "fillmode": "overlay",
              "size": 10,
              "solidity": 0.2
             }
            },
            "type": "barpolar"
           }
          ],
          "carpet": [
           {
            "aaxis": {
             "endlinecolor": "#2a3f5f",
             "gridcolor": "white",
             "linecolor": "white",
             "minorgridcolor": "white",
             "startlinecolor": "#2a3f5f"
            },
            "baxis": {
             "endlinecolor": "#2a3f5f",
             "gridcolor": "white",
             "linecolor": "white",
             "minorgridcolor": "white",
             "startlinecolor": "#2a3f5f"
            },
            "type": "carpet"
           }
          ],
          "choropleth": [
           {
            "colorbar": {
             "outlinewidth": 0,
             "ticks": ""
            },
            "type": "choropleth"
           }
          ],
          "contour": [
           {
            "colorbar": {
             "outlinewidth": 0,
             "ticks": ""
            },
            "colorscale": [
             [
              0,
              "#0d0887"
             ],
             [
              0.1111111111111111,
              "#46039f"
             ],
             [
              0.2222222222222222,
              "#7201a8"
             ],
             [
              0.3333333333333333,
              "#9c179e"
             ],
             [
              0.4444444444444444,
              "#bd3786"
             ],
             [
              0.5555555555555556,
              "#d8576b"
             ],
             [
              0.6666666666666666,
              "#ed7953"
             ],
             [
              0.7777777777777778,
              "#fb9f3a"
             ],
             [
              0.8888888888888888,
              "#fdca26"
             ],
             [
              1,
              "#f0f921"
             ]
            ],
            "type": "contour"
           }
          ],
          "contourcarpet": [
           {
            "colorbar": {
             "outlinewidth": 0,
             "ticks": ""
            },
            "type": "contourcarpet"
           }
          ],
          "heatmap": [
           {
            "colorbar": {
             "outlinewidth": 0,
             "ticks": ""
            },
            "colorscale": [
             [
              0,
              "#0d0887"
             ],
             [
              0.1111111111111111,
              "#46039f"
             ],
             [
              0.2222222222222222,
              "#7201a8"
             ],
             [
              0.3333333333333333,
              "#9c179e"
             ],
             [
              0.4444444444444444,
              "#bd3786"
             ],
             [
              0.5555555555555556,
              "#d8576b"
             ],
             [
              0.6666666666666666,
              "#ed7953"
             ],
             [
              0.7777777777777778,
              "#fb9f3a"
             ],
             [
              0.8888888888888888,
              "#fdca26"
             ],
             [
              1,
              "#f0f921"
             ]
            ],
            "type": "heatmap"
           }
          ],
          "heatmapgl": [
           {
            "colorbar": {
             "outlinewidth": 0,
             "ticks": ""
            },
            "colorscale": [
             [
              0,
              "#0d0887"
             ],
             [
              0.1111111111111111,
              "#46039f"
             ],
             [
              0.2222222222222222,
              "#7201a8"
             ],
             [
              0.3333333333333333,
              "#9c179e"
             ],
             [
              0.4444444444444444,
              "#bd3786"
             ],
             [
              0.5555555555555556,
              "#d8576b"
             ],
             [
              0.6666666666666666,
              "#ed7953"
             ],
             [
              0.7777777777777778,
              "#fb9f3a"
             ],
             [
              0.8888888888888888,
              "#fdca26"
             ],
             [
              1,
              "#f0f921"
             ]
            ],
            "type": "heatmapgl"
           }
          ],
          "histogram": [
           {
            "marker": {
             "pattern": {
              "fillmode": "overlay",
              "size": 10,
              "solidity": 0.2
             }
            },
            "type": "histogram"
           }
          ],
          "histogram2d": [
           {
            "colorbar": {
             "outlinewidth": 0,
             "ticks": ""
            },
            "colorscale": [
             [
              0,
              "#0d0887"
             ],
             [
              0.1111111111111111,
              "#46039f"
             ],
             [
              0.2222222222222222,
              "#7201a8"
             ],
             [
              0.3333333333333333,
              "#9c179e"
             ],
             [
              0.4444444444444444,
              "#bd3786"
             ],
             [
              0.5555555555555556,
              "#d8576b"
             ],
             [
              0.6666666666666666,
              "#ed7953"
             ],
             [
              0.7777777777777778,
              "#fb9f3a"
             ],
             [
              0.8888888888888888,
              "#fdca26"
             ],
             [
              1,
              "#f0f921"
             ]
            ],
            "type": "histogram2d"
           }
          ],
          "histogram2dcontour": [
           {
            "colorbar": {
             "outlinewidth": 0,
             "ticks": ""
            },
            "colorscale": [
             [
              0,
              "#0d0887"
             ],
             [
              0.1111111111111111,
              "#46039f"
             ],
             [
              0.2222222222222222,
              "#7201a8"
             ],
             [
              0.3333333333333333,
              "#9c179e"
             ],
             [
              0.4444444444444444,
              "#bd3786"
             ],
             [
              0.5555555555555556,
              "#d8576b"
             ],
             [
              0.6666666666666666,
              "#ed7953"
             ],
             [
              0.7777777777777778,
              "#fb9f3a"
             ],
             [
              0.8888888888888888,
              "#fdca26"
             ],
             [
              1,
              "#f0f921"
             ]
            ],
            "type": "histogram2dcontour"
           }
          ],
          "mesh3d": [
           {
            "colorbar": {
             "outlinewidth": 0,
             "ticks": ""
            },
            "type": "mesh3d"
           }
          ],
          "parcoords": [
           {
            "line": {
             "colorbar": {
              "outlinewidth": 0,
              "ticks": ""
             }
            },
            "type": "parcoords"
           }
          ],
          "pie": [
           {
            "automargin": true,
            "type": "pie"
           }
          ],
          "scatter": [
           {
            "fillpattern": {
             "fillmode": "overlay",
             "size": 10,
             "solidity": 0.2
            },
            "type": "scatter"
           }
          ],
          "scatter3d": [
           {
            "line": {
             "colorbar": {
              "outlinewidth": 0,
              "ticks": ""
             }
            },
            "marker": {
             "colorbar": {
              "outlinewidth": 0,
              "ticks": ""
             }
            },
            "type": "scatter3d"
           }
          ],
          "scattercarpet": [
           {
            "marker": {
             "colorbar": {
              "outlinewidth": 0,
              "ticks": ""
             }
            },
            "type": "scattercarpet"
           }
          ],
          "scattergeo": [
           {
            "marker": {
             "colorbar": {
              "outlinewidth": 0,
              "ticks": ""
             }
            },
            "type": "scattergeo"
           }
          ],
          "scattergl": [
           {
            "marker": {
             "colorbar": {
              "outlinewidth": 0,
              "ticks": ""
             }
            },
            "type": "scattergl"
           }
          ],
          "scattermapbox": [
           {
            "marker": {
             "colorbar": {
              "outlinewidth": 0,
              "ticks": ""
             }
            },
            "type": "scattermapbox"
           }
          ],
          "scatterpolar": [
           {
            "marker": {
             "colorbar": {
              "outlinewidth": 0,
              "ticks": ""
             }
            },
            "type": "scatterpolar"
           }
          ],
          "scatterpolargl": [
           {
            "marker": {
             "colorbar": {
              "outlinewidth": 0,
              "ticks": ""
             }
            },
            "type": "scatterpolargl"
           }
          ],
          "scatterternary": [
           {
            "marker": {
             "colorbar": {
              "outlinewidth": 0,
              "ticks": ""
             }
            },
            "type": "scatterternary"
           }
          ],
          "surface": [
           {
            "colorbar": {
             "outlinewidth": 0,
             "ticks": ""
            },
            "colorscale": [
             [
              0,
              "#0d0887"
             ],
             [
              0.1111111111111111,
              "#46039f"
             ],
             [
              0.2222222222222222,
              "#7201a8"
             ],
             [
              0.3333333333333333,
              "#9c179e"
             ],
             [
              0.4444444444444444,
              "#bd3786"
             ],
             [
              0.5555555555555556,
              "#d8576b"
             ],
             [
              0.6666666666666666,
              "#ed7953"
             ],
             [
              0.7777777777777778,
              "#fb9f3a"
             ],
             [
              0.8888888888888888,
              "#fdca26"
             ],
             [
              1,
              "#f0f921"
             ]
            ],
            "type": "surface"
           }
          ],
          "table": [
           {
            "cells": {
             "fill": {
              "color": "#EBF0F8"
             },
             "line": {
              "color": "white"
             }
            },
            "header": {
             "fill": {
              "color": "#C8D4E3"
             },
             "line": {
              "color": "white"
             }
            },
            "type": "table"
           }
          ]
         },
         "layout": {
          "annotationdefaults": {
           "arrowcolor": "#2a3f5f",
           "arrowhead": 0,
           "arrowwidth": 1
          },
          "autotypenumbers": "strict",
          "coloraxis": {
           "colorbar": {
            "outlinewidth": 0,
            "ticks": ""
           }
          },
          "colorscale": {
           "diverging": [
            [
             0,
             "#8e0152"
            ],
            [
             0.1,
             "#c51b7d"
            ],
            [
             0.2,
             "#de77ae"
            ],
            [
             0.3,
             "#f1b6da"
            ],
            [
             0.4,
             "#fde0ef"
            ],
            [
             0.5,
             "#f7f7f7"
            ],
            [
             0.6,
             "#e6f5d0"
            ],
            [
             0.7,
             "#b8e186"
            ],
            [
             0.8,
             "#7fbc41"
            ],
            [
             0.9,
             "#4d9221"
            ],
            [
             1,
             "#276419"
            ]
           ],
           "sequential": [
            [
             0,
             "#0d0887"
            ],
            [
             0.1111111111111111,
             "#46039f"
            ],
            [
             0.2222222222222222,
             "#7201a8"
            ],
            [
             0.3333333333333333,
             "#9c179e"
            ],
            [
             0.4444444444444444,
             "#bd3786"
            ],
            [
             0.5555555555555556,
             "#d8576b"
            ],
            [
             0.6666666666666666,
             "#ed7953"
            ],
            [
             0.7777777777777778,
             "#fb9f3a"
            ],
            [
             0.8888888888888888,
             "#fdca26"
            ],
            [
             1,
             "#f0f921"
            ]
           ],
           "sequentialminus": [
            [
             0,
             "#0d0887"
            ],
            [
             0.1111111111111111,
             "#46039f"
            ],
            [
             0.2222222222222222,
             "#7201a8"
            ],
            [
             0.3333333333333333,
             "#9c179e"
            ],
            [
             0.4444444444444444,
             "#bd3786"
            ],
            [
             0.5555555555555556,
             "#d8576b"
            ],
            [
             0.6666666666666666,
             "#ed7953"
            ],
            [
             0.7777777777777778,
             "#fb9f3a"
            ],
            [
             0.8888888888888888,
             "#fdca26"
            ],
            [
             1,
             "#f0f921"
            ]
           ]
          },
          "colorway": [
           "#636efa",
           "#EF553B",
           "#00cc96",
           "#ab63fa",
           "#FFA15A",
           "#19d3f3",
           "#FF6692",
           "#B6E880",
           "#FF97FF",
           "#FECB52"
          ],
          "font": {
           "color": "#2a3f5f"
          },
          "geo": {
           "bgcolor": "white",
           "lakecolor": "white",
           "landcolor": "#E5ECF6",
           "showlakes": true,
           "showland": true,
           "subunitcolor": "white"
          },
          "hoverlabel": {
           "align": "left"
          },
          "hovermode": "closest",
          "mapbox": {
           "style": "light"
          },
          "paper_bgcolor": "white",
          "plot_bgcolor": "#E5ECF6",
          "polar": {
           "angularaxis": {
            "gridcolor": "white",
            "linecolor": "white",
            "ticks": ""
           },
           "bgcolor": "#E5ECF6",
           "radialaxis": {
            "gridcolor": "white",
            "linecolor": "white",
            "ticks": ""
           }
          },
          "scene": {
           "xaxis": {
            "backgroundcolor": "#E5ECF6",
            "gridcolor": "white",
            "gridwidth": 2,
            "linecolor": "white",
            "showbackground": true,
            "ticks": "",
            "zerolinecolor": "white"
           },
           "yaxis": {
            "backgroundcolor": "#E5ECF6",
            "gridcolor": "white",
            "gridwidth": 2,
            "linecolor": "white",
            "showbackground": true,
            "ticks": "",
            "zerolinecolor": "white"
           },
           "zaxis": {
            "backgroundcolor": "#E5ECF6",
            "gridcolor": "white",
            "gridwidth": 2,
            "linecolor": "white",
            "showbackground": true,
            "ticks": "",
            "zerolinecolor": "white"
           }
          },
          "shapedefaults": {
           "line": {
            "color": "#2a3f5f"
           }
          },
          "ternary": {
           "aaxis": {
            "gridcolor": "white",
            "linecolor": "white",
            "ticks": ""
           },
           "baxis": {
            "gridcolor": "white",
            "linecolor": "white",
            "ticks": ""
           },
           "bgcolor": "#E5ECF6",
           "caxis": {
            "gridcolor": "white",
            "linecolor": "white",
            "ticks": ""
           }
          },
          "title": {
           "x": 0.05
          },
          "xaxis": {
           "automargin": true,
           "gridcolor": "white",
           "linecolor": "white",
           "ticks": "",
           "title": {
            "standoff": 15
           },
           "zerolinecolor": "white",
           "zerolinewidth": 2
          },
          "yaxis": {
           "automargin": true,
           "gridcolor": "white",
           "linecolor": "white",
           "ticks": "",
           "title": {
            "standoff": 15
           },
           "zerolinecolor": "white",
           "zerolinewidth": 2
          }
         }
        }
       }
      }
     },
     "metadata": {},
     "output_type": "display_data"
    }
   ],
   "source": [
    "df = valid_dropped\n",
    "df = df.set_geometry(\"geometry\")\n",
    "df = df.set_crs(\"epsg:3857\", allow_override=True)\n",
    "df = df.to_crs(\"epsg:4326\")\n",
    "px.scatter_geo(\n",
    "    df,\n",
    "    lat=df.geometry.y,\n",
    "    lon=df.geometry.x,\n",
    "    hover_data=[\"central city\", \"total pop\"],\n",
    ")"
   ]
  },
  {
   "cell_type": "code",
   "execution_count": 23,
   "metadata": {},
   "outputs": [
    {
     "data": {
      "text/html": [
       "<div>\n",
       "<style scoped>\n",
       "    .dataframe tbody tr th:only-of-type {\n",
       "        vertical-align: middle;\n",
       "    }\n",
       "\n",
       "    .dataframe tbody tr th {\n",
       "        vertical-align: top;\n",
       "    }\n",
       "\n",
       "    .dataframe thead th {\n",
       "        text-align: right;\n",
       "    }\n",
       "</style>\n",
       "<table border=\"1\" class=\"dataframe\">\n",
       "  <thead>\n",
       "    <tr style=\"text-align: right;\">\n",
       "      <th></th>\n",
       "      <th>central city</th>\n",
       "      <th>central city pop</th>\n",
       "      <th>country_code</th>\n",
       "      <th>geometry</th>\n",
       "      <th>population</th>\n",
       "      <th>ascii_name_y</th>\n",
       "      <th>total pop</th>\n",
       "    </tr>\n",
       "  </thead>\n",
       "  <tbody>\n",
       "    <tr>\n",
       "      <th>528</th>\n",
       "      <td>Fredericia</td>\n",
       "      <td>40886</td>\n",
       "      <td>DK</td>\n",
       "      <td>POINT (1085651.126 7472436.238)</td>\n",
       "      <td>180863</td>\n",
       "      <td>[Odense]</td>\n",
       "      <td>221749</td>\n",
       "    </tr>\n",
       "    <tr>\n",
       "      <th>243</th>\n",
       "      <td>Bilbao</td>\n",
       "      <td>345821</td>\n",
       "      <td>ES</td>\n",
       "      <td>POINT (-325640.680 5352044.860)</td>\n",
       "      <td>708770</td>\n",
       "      <td>[Algorta, Basauri, Santutxu, Gasteiz / Vitoria...</td>\n",
       "      <td>1054591</td>\n",
       "    </tr>\n",
       "  </tbody>\n",
       "</table>\n",
       "</div>"
      ],
      "text/plain": [
       "    central city  central city pop country_code  \\\n",
       "528   Fredericia             40886           DK   \n",
       "243       Bilbao            345821           ES   \n",
       "\n",
       "                            geometry  population  \\\n",
       "528  POINT (1085651.126 7472436.238)      180863   \n",
       "243  POINT (-325640.680 5352044.860)      708770   \n",
       "\n",
       "                                          ascii_name_y  total pop  \n",
       "528                                           [Odense]     221749  \n",
       "243  [Algorta, Basauri, Santutxu, Gasteiz / Vitoria...    1054591  "
      ]
     },
     "execution_count": 23,
     "metadata": {},
     "output_type": "execute_result"
    }
   ],
   "source": [
    "valid_dropped.sample(2)"
   ]
  },
  {
   "cell_type": "code",
   "execution_count": 24,
   "metadata": {},
   "outputs": [
    {
     "data": {
      "text/html": [
       "<div>\n",
       "<style scoped>\n",
       "    .dataframe tbody tr th:only-of-type {\n",
       "        vertical-align: middle;\n",
       "    }\n",
       "\n",
       "    .dataframe tbody tr th {\n",
       "        vertical-align: top;\n",
       "    }\n",
       "\n",
       "    .dataframe thead th {\n",
       "        text-align: right;\n",
       "    }\n",
       "</style>\n",
       "<table border=\"1\" class=\"dataframe\">\n",
       "  <thead>\n",
       "    <tr style=\"text-align: right;\">\n",
       "      <th></th>\n",
       "      <th>metro</th>\n",
       "      <th>country_code</th>\n",
       "      <th>geometry</th>\n",
       "      <th>population</th>\n",
       "      <th>cities</th>\n",
       "    </tr>\n",
       "  </thead>\n",
       "  <tbody>\n",
       "    <tr>\n",
       "      <th>156</th>\n",
       "      <td>Virginia Beach</td>\n",
       "      <td>US</td>\n",
       "      <td>POINT (-8457831.158 4418626.904)</td>\n",
       "      <td>1312755</td>\n",
       "      <td>[South Suffolk, Newport News, Suffolk, Hampton...</td>\n",
       "    </tr>\n",
       "    <tr>\n",
       "      <th>533</th>\n",
       "      <td>Menglang</td>\n",
       "      <td>CN</td>\n",
       "      <td>POINT (11121962.608 2579152.063)</td>\n",
       "      <td>128774</td>\n",
       "      <td>[Zhutang, Qianliu, Shangyun]</td>\n",
       "    </tr>\n",
       "  </tbody>\n",
       "</table>\n",
       "</div>"
      ],
      "text/plain": [
       "              metro country_code                          geometry  \\\n",
       "156  Virginia Beach           US  POINT (-8457831.158 4418626.904)   \n",
       "533        Menglang           CN  POINT (11121962.608 2579152.063)   \n",
       "\n",
       "     population                                             cities  \n",
       "156     1312755  [South Suffolk, Newport News, Suffolk, Hampton...  \n",
       "533      128774                       [Zhutang, Qianliu, Shangyun]  "
      ]
     },
     "execution_count": 24,
     "metadata": {},
     "output_type": "execute_result"
    }
   ],
   "source": [
    "valid_dropped = valid_dropped.drop(columns=[\"central city pop\", \"total pop\"])\n",
    "valid_dropped = valid_dropped.rename(\n",
    "    columns={\"central city\": \"metro\", \"ascii_name_y\": \"cities\"}\n",
    ")\n",
    "valid_dropped.sample(2)"
   ]
  },
  {
   "cell_type": "code",
   "execution_count": 27,
   "metadata": {},
   "outputs": [],
   "source": [
    "valid_dropped[\"geometry\"] = valid_dropped[\"geometry\"].astype(\"string\")\n",
    "valid_dropped.to_parquet(\"./data/metro_regions.parquet\")"
   ]
  },
  {
   "cell_type": "code",
   "execution_count": 18,
   "metadata": {},
   "outputs": [
    {
     "ename": "NameError",
     "evalue": "name 'q' is not defined",
     "output_type": "error",
     "traceback": [
      "\u001b[1;31m---------------------------------------------------------------------------\u001b[0m",
      "\u001b[1;31mNameError\u001b[0m                                 Traceback (most recent call last)",
      "Cell \u001b[1;32mIn[18], line 1\u001b[0m\n\u001b[1;32m----> 1\u001b[0m \u001b[43mq\u001b[49m\n",
      "\u001b[1;31mNameError\u001b[0m: name 'q' is not defined"
     ]
    }
   ],
   "source": [
    "q"
   ]
  },
  {
   "cell_type": "code",
   "execution_count": null,
   "metadata": {},
   "outputs": [],
   "source": [
    "valid_cross = gpd.GeoDataFrame(valid.merge(\n",
    "    valid,\n",
    "    how=\"cross\"\n",
    "))\n",
    "valid_cross.sort_values(by=\"total pop_x\", ascending=False).head(2)"
   ]
  },
  {
   "cell_type": "code",
   "execution_count": null,
   "metadata": {},
   "outputs": [],
   "source": [
    "valid_cross.set_geometry(\"geometry_x\")\n",
    "valid_cross[\"geometry_x\"] = gpd.GeoSeries(valid_cross[\"geometry_x\"]).to_crs(\"epsg:3857\")\n",
    "valid_cross[\"geometry_y\"] = gpd.GeoSeries(valid_cross[\"geometry_y\"]).to_crs(\"epsg:3857\")\n",
    "valid_cross[\"dist\"] = valid_cross[\"geometry_x\"].distance(valid_cross[\"geometry_y\"])"
   ]
  },
  {
   "cell_type": "code",
   "execution_count": null,
   "metadata": {},
   "outputs": [],
   "source": [
    "valid_cross = valid_cross[\n",
    "    valid_cross[\"central city_x\"] != valid_cross[\"central city_y\"]\n",
    "]\n",
    "valid_cross[\"total pop_x\"] = valid_cross[\"total pop_x\"].astype(int)\n",
    "valid_cross[\"total pop_y\"] = valid_cross[\"total pop_y\"].astype(int)\n",
    "valid_cross[\"dist\"] = valid_cross[\"dist\"].astype(float)"
   ]
  },
  {
   "cell_type": "code",
   "execution_count": null,
   "metadata": {},
   "outputs": [],
   "source": [
    "# Select for city pairs closer than 20 miles to main city (over 75K)\n",
    "valid_cross = valid_cross[valid_cross[\"dist\"].astype(\"float\") < 50000]\n",
    "# valid = crossed\n",
    "# If the second (smaller) city is matched to multiple main cities, only keep match with largest main city\n",
    "valid_cross = valid_cross.sort_values(by=\"central city pop_x\", ascending=False)\n",
    "valid_cross = valid_cross.drop_duplicates(subset=\"central city_y\", keep=\"first\")\n",
    "valid_cross.head(2)"
   ]
  },
  {
   "cell_type": "code",
   "execution_count": null,
   "metadata": {},
   "outputs": [],
   "source": [
    "# Groupby main city, sum population, agg list of names together for record and keep largest city as metro name\n",
    "valid_cross = (\n",
    "    valid_cross.groupby(\"central city_x\")\n",
    "    .agg(\n",
    "        {\n",
    "            \"total pop_x\": \"first\",\n",
    "            \"country_code_x\": \"first\",\n",
    "            \"geometry_x\": \"first\",\n",
    "            \"total pop_y\": \"sum\",\n",
    "            \"central city_y\": list,\n",
    "        }\n",
    "    )\n",
    "    .reset_index()\n",
    ")\n",
    "valid_cross[\"total pop\"] = valid_cross[\"total pop_x\"] + valid_cross[\"total pop_y\"]\n",
    "valid_cross = valid_cross.rename(\n",
    "    columns={\n",
    "        \"central_city_x\": \"central city\",\n",
    "        \"total pop_x\": \"central city pop\",\n",
    "        \"country_code_x\": \"country_code\",\n",
    "        \"total pop_y\": \"total pop other\",\n",
    "        \"population_y\": \"population\",\n",
    "        \"geometry_x\": \"geometry\",\n",
    "    }\n",
    ")\n",
    "valid_cross[\"total pop\"] = valid_cross[\"total pop\"].astype(int)"
   ]
  },
  {
   "cell_type": "code",
   "execution_count": null,
   "metadata": {},
   "outputs": [],
   "source": [
    "valid_cross.sample(2)"
   ]
  },
  {
   "cell_type": "code",
   "execution_count": null,
   "metadata": {},
   "outputs": [],
   "source": [
    "valid_cross.sort_values(by=\"total pop\", ascending=False).head(25)"
   ]
  },
  {
   "cell_type": "code",
   "execution_count": null,
   "metadata": {},
   "outputs": [],
   "source": [
    "valid_cross[\n",
    "    ~valid_cross.apply(lambda row: row[\"central city_x\"] in row[\"central city_y\"], axis=1)\n",
    "].sort_values(by=\"total pop\", ascending=False).head(25)"
   ]
  },
  {
   "cell_type": "code",
   "execution_count": null,
   "metadata": {},
   "outputs": [],
   "source": [
    "world = gpd.read_file(\"./data/countries.geojson\")\n",
    "world = world.to_crs(\"epsg:4326\")"
   ]
  },
  {
   "cell_type": "code",
   "execution_count": null,
   "metadata": {},
   "outputs": [],
   "source": [
    "world = gpd.read_file(\"./data/countries.geojson\")\n",
    "world = world.to_crs(\"epsg:4326\")\n",
    "\n",
    "valid_cross = valid_cross.set_geometry(\"geometry\")\n",
    "valid_cross = valid_cross = valid_cross.set_crs(\"epsg:4326\")\n",
    "px.scatter_geo(\n",
    "    valid_cross,\n",
    "    lat=valid_cross.geometry.y,\n",
    "    lon=valid_cross.geometry.x,\n",
    "    hover_data=[\"central city_x\"],\n",
    ")"
   ]
  },
  {
   "cell_type": "code",
   "execution_count": null,
   "metadata": {},
   "outputs": [],
   "source": [
    "fig, ax = plt.subplots(figsize=(10,6))\n",
    "world.plot(ax=ax, color=\"lightgrey\", markersize=2)\n",
    "valid_geo.plot(ax=ax, color=\"red\", markersize=0.25, labels=\"name_x\")\n",
    "ax.set_aspect(\"equal\")\n",
    "plt.show()"
   ]
  },
  {
   "cell_type": "code",
   "execution_count": null,
   "metadata": {},
   "outputs": [],
   "source": [
    "valid[valid[\"name_x\"].str.contains(\"Atlanta\")]"
   ]
  }
 ],
 "metadata": {
  "kernelspec": {
   "display_name": "ml-hsr",
   "language": "python",
   "name": "python3"
  },
  "language_info": {
   "codemirror_mode": {
    "name": "ipython",
    "version": 3
   },
   "file_extension": ".py",
   "mimetype": "text/x-python",
   "name": "python",
   "nbconvert_exporter": "python",
   "pygments_lexer": "ipython3",
   "version": "3.11.5"
  }
 },
 "nbformat": 4,
 "nbformat_minor": 2
}
