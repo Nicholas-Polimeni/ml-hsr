{
 "cells": [
  {
   "cell_type": "code",
   "execution_count": 6,
   "metadata": {},
   "outputs": [],
   "source": [
    "from colour import Color\n",
    "from tqdm import tqdm\n",
    "import matplotlib.pyplot as plt\n",
    "import numpy as np\n",
    "import pandas as pd\n",
    "import pydeck as pdk"
   ]
  },
  {
   "cell_type": "code",
   "execution_count": 7,
   "metadata": {},
   "outputs": [
    {
     "data": {
      "text/plain": [
       "16750"
      ]
     },
     "execution_count": 7,
     "metadata": {},
     "output_type": "execute_result"
    }
   ],
   "source": [
    "def get_dataset(csv_name):\n",
    "    dataset = pd.read_csv(csv_name, delimiter=\";\")\n",
    "    dataset = dataset.drop_duplicates()\n",
    "\n",
    "    # pick columns to use\n",
    "    dataset[\"Latitude\"] = dataset[\"Coordinates\"].str.split(\",\").str[0].astype(float)\n",
    "    dataset[\"Longitude\"] = dataset[\"Coordinates\"].str.split(\",\").str[1].astype(float)\n",
    "    columns = [\n",
    "        \"Geoname ID\",\n",
    "        \"Name\",\n",
    "        \"Population\",\n",
    "        \"Country name EN\",\n",
    "        \"Latitude\",\n",
    "        \"Longitude\",\n",
    "    ]\n",
    "    dataset = dataset[columns]\n",
    "    return dataset\n",
    "\n",
    "dataset = get_dataset(\"geonames.csv\")\n",
    "len(dataset[dataset[\"Country name EN\"] == \"United States\"])"
   ]
  }
 ],
 "metadata": {
  "kernelspec": {
   "display_name": ".venv",
   "language": "python",
   "name": "python3"
  },
  "language_info": {
   "codemirror_mode": {
    "name": "ipython",
    "version": 3
   },
   "file_extension": ".py",
   "mimetype": "text/x-python",
   "name": "python",
   "nbconvert_exporter": "python",
   "pygments_lexer": "ipython3",
   "version": "3.9.17"
  }
 },
 "nbformat": 4,
 "nbformat_minor": 2
}
