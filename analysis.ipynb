{
 "cells": [
  {
   "cell_type": "code",
   "execution_count": 1,
   "metadata": {},
   "outputs": [],
   "source": [
    "import pandas as pd\n",
    "import geopandas as gpd\n",
    "from shapely import wkt"
   ]
  },
  {
   "cell_type": "code",
   "execution_count": 2,
   "metadata": {},
   "outputs": [],
   "source": [
    "china = pd.read_csv(\"./data/china_city_riders.csv\")\n",
    "metro = pd.read_parquet(\"./data/metro_regions.parquet\")"
   ]
  },
  {
   "cell_type": "code",
   "execution_count": 3,
   "metadata": {},
   "outputs": [
    {
     "data": {
      "text/html": [
       "<div>\n",
       "<style scoped>\n",
       "    .dataframe tbody tr th:only-of-type {\n",
       "        vertical-align: middle;\n",
       "    }\n",
       "\n",
       "    .dataframe tbody tr th {\n",
       "        vertical-align: top;\n",
       "    }\n",
       "\n",
       "    .dataframe thead th {\n",
       "        text-align: right;\n",
       "    }\n",
       "</style>\n",
       "<table border=\"1\" class=\"dataframe\">\n",
       "  <thead>\n",
       "    <tr style=\"text-align: right;\">\n",
       "      <th></th>\n",
       "      <th>station_1</th>\n",
       "      <th>station_2</th>\n",
       "      <th>s1_strip</th>\n",
       "      <th>s2_strip</th>\n",
       "      <th>trains</th>\n",
       "      <th>geometry_x</th>\n",
       "      <th>city1</th>\n",
       "      <th>geometry_y</th>\n",
       "      <th>city2</th>\n",
       "      <th>dist</th>\n",
       "    </tr>\n",
       "  </thead>\n",
       "  <tbody>\n",
       "    <tr>\n",
       "      <th>3580</th>\n",
       "      <td>Hunchun Railway Station</td>\n",
       "      <td>Tumenbei Railway Station</td>\n",
       "      <td>hunchun</td>\n",
       "      <td>tumen</td>\n",
       "      <td>1</td>\n",
       "      <td>POINT Z (14515614.015607776 5296749.253939128 0)</td>\n",
       "      <td>hunchun</td>\n",
       "      <td>POINT Z (14448459.512320956 5311115.004282691 0)</td>\n",
       "      <td>tumen</td>\n",
       "      <td>68.673882</td>\n",
       "    </tr>\n",
       "    <tr>\n",
       "      <th>2054</th>\n",
       "      <td>Guangzhounan Railway Station</td>\n",
       "      <td>Jinanxi Railway Station</td>\n",
       "      <td>guangzhou</td>\n",
       "      <td>ji</td>\n",
       "      <td>14</td>\n",
       "      <td>POINT Z (12608493.456616975 2630984.2265344746 0)</td>\n",
       "      <td>guangzhou</td>\n",
       "      <td>POINT Z (13011676.229528375 4393063.6699935505 0)</td>\n",
       "      <td>ji</td>\n",
       "      <td>1807.617303</td>\n",
       "    </tr>\n",
       "  </tbody>\n",
       "</table>\n",
       "</div>"
      ],
      "text/plain": [
       "                         station_1                 station_2   s1_strip  \\\n",
       "3580       Hunchun Railway Station  Tumenbei Railway Station    hunchun   \n",
       "2054  Guangzhounan Railway Station   Jinanxi Railway Station  guangzhou   \n",
       "\n",
       "     s2_strip  trains                                         geometry_x  \\\n",
       "3580    tumen       1   POINT Z (14515614.015607776 5296749.253939128 0)   \n",
       "2054       ji      14  POINT Z (12608493.456616975 2630984.2265344746 0)   \n",
       "\n",
       "          city1                                         geometry_y  city2  \\\n",
       "3580    hunchun   POINT Z (14448459.512320956 5311115.004282691 0)  tumen   \n",
       "2054  guangzhou  POINT Z (13011676.229528375 4393063.6699935505 0)     ji   \n",
       "\n",
       "             dist  \n",
       "3580    68.673882  \n",
       "2054  1807.617303  "
      ]
     },
     "execution_count": 3,
     "metadata": {},
     "output_type": "execute_result"
    }
   ],
   "source": [
    "china.sample(2)"
   ]
  },
  {
   "cell_type": "code",
   "execution_count": 4,
   "metadata": {},
   "outputs": [
    {
     "data": {
      "text/html": [
       "<div>\n",
       "<style scoped>\n",
       "    .dataframe tbody tr th:only-of-type {\n",
       "        vertical-align: middle;\n",
       "    }\n",
       "\n",
       "    .dataframe tbody tr th {\n",
       "        vertical-align: top;\n",
       "    }\n",
       "\n",
       "    .dataframe thead th {\n",
       "        text-align: right;\n",
       "    }\n",
       "</style>\n",
       "<table border=\"1\" class=\"dataframe\">\n",
       "  <thead>\n",
       "    <tr style=\"text-align: right;\">\n",
       "      <th></th>\n",
       "      <th>metro</th>\n",
       "      <th>country_code</th>\n",
       "      <th>geometry</th>\n",
       "      <th>population</th>\n",
       "      <th>cities</th>\n",
       "    </tr>\n",
       "  </thead>\n",
       "  <tbody>\n",
       "    <tr>\n",
       "      <th>111</th>\n",
       "      <td>Nanchang</td>\n",
       "      <td>CN</td>\n",
       "      <td>POINT (12896703.646043 3335482.390658)</td>\n",
       "      <td>165182</td>\n",
       "      <td>[Changleng, Jianguang, Gongqingcheng]</td>\n",
       "    </tr>\n",
       "    <tr>\n",
       "      <th>48</th>\n",
       "      <td>Fuzhou</td>\n",
       "      <td>CN</td>\n",
       "      <td>POINT (13281095.413726 3006686.346673)</td>\n",
       "      <td>1175223</td>\n",
       "      <td>[Fuqing, Ningde, Jiangkou, Tantou, Fenggang, X...</td>\n",
       "    </tr>\n",
       "  </tbody>\n",
       "</table>\n",
       "</div>"
      ],
      "text/plain": [
       "        metro country_code                                geometry  \\\n",
       "111  Nanchang           CN  POINT (12896703.646043 3335482.390658)   \n",
       "48     Fuzhou           CN  POINT (13281095.413726 3006686.346673)   \n",
       "\n",
       "     population                                             cities  \n",
       "111      165182              [Changleng, Jianguang, Gongqingcheng]  \n",
       "48      1175223  [Fuqing, Ningde, Jiangkou, Tantou, Fenggang, X...  "
      ]
     },
     "execution_count": 4,
     "metadata": {},
     "output_type": "execute_result"
    }
   ],
   "source": [
    "metro = metro[metro[\"country_code\"] ==\"CN\"]\n",
    "metro.sample(2)"
   ]
  },
  {
   "cell_type": "code",
   "execution_count": 5,
   "metadata": {},
   "outputs": [
    {
     "data": {
      "text/plain": [
       "167"
      ]
     },
     "execution_count": 5,
     "metadata": {},
     "output_type": "execute_result"
    }
   ],
   "source": [
    "len(metro)"
   ]
  },
  {
   "cell_type": "code",
   "execution_count": 24,
   "metadata": {},
   "outputs": [
    {
     "name": "stdout",
     "output_type": "stream",
     "text": [
      "EPSG:3857\n"
     ]
    },
    {
     "name": "stderr",
     "output_type": "stream",
     "text": [
      "C:\\Users\\nicho\\AppData\\Local\\Temp\\ipykernel_8860\\4264617719.py:12: UserWarning: CRS mismatch between the CRS of left geometries and the CRS of right geometries.\n",
      "Use `to_crs()` to reproject one of the input geometries to match the CRS of the other.\n",
      "\n",
      "Left CRS: EPSG:3857\n",
      "Right CRS: None\n",
      "\n",
      "  crossed[\"dist\"] = crossed[\"geometry_x\"].distance(crossed[\"geometry_y\"]) / 1000\n"
     ]
    }
   ],
   "source": [
    "crossed = gpd.GeoDataFrame(metro.merge(\n",
    "    metro,\n",
    "    how=\"cross\"\n",
    "))\n",
    "crossed[\"geometry_x\"] = crossed[\"geometry_x\"].apply(wkt.loads)\n",
    "crossed[\"geometry_y\"] = crossed[\"geometry_y\"].apply(wkt.loads)\n",
    "crossed = crossed.set_geometry(\"geometry_x\")\n",
    "crossed.crs = \"EPSG:3857\"\n",
    "print(crossed.crs)\n",
    "crossed[\"geometry_x\"] = gpd.GeoSeries(crossed[\"geometry_x\"])\n",
    "crossed[\"geometry_y\"] = gpd.GeoSeries(crossed[\"geometry_y\"])\n",
    "crossed[\"dist\"] = crossed[\"geometry_x\"].distance(crossed[\"geometry_y\"]) / 1000\n",
    "crossed = crossed[\n",
    "    crossed[\"metro_x\"] != crossed[\"metro_y\"]\n",
    "]"
   ]
  },
  {
   "cell_type": "code",
   "execution_count": 34,
   "metadata": {},
   "outputs": [
    {
     "data": {
      "text/html": [
       "<div>\n",
       "<style scoped>\n",
       "    .dataframe tbody tr th:only-of-type {\n",
       "        vertical-align: middle;\n",
       "    }\n",
       "\n",
       "    .dataframe tbody tr th {\n",
       "        vertical-align: top;\n",
       "    }\n",
       "\n",
       "    .dataframe thead th {\n",
       "        text-align: right;\n",
       "    }\n",
       "</style>\n",
       "<table border=\"1\" class=\"dataframe\">\n",
       "  <thead>\n",
       "    <tr style=\"text-align: right;\">\n",
       "      <th></th>\n",
       "      <th>metro_x</th>\n",
       "      <th>country_code_x</th>\n",
       "      <th>geometry_x</th>\n",
       "      <th>population_x</th>\n",
       "      <th>cities_x</th>\n",
       "      <th>metro_y</th>\n",
       "      <th>country_code_y</th>\n",
       "      <th>geometry_y</th>\n",
       "      <th>population_y</th>\n",
       "      <th>cities_y</th>\n",
       "      <th>dist</th>\n",
       "    </tr>\n",
       "  </thead>\n",
       "  <tbody>\n",
       "    <tr>\n",
       "      <th>17751</th>\n",
       "      <td>xuanhua</td>\n",
       "      <td>CN</td>\n",
       "      <td>POINT (12808936.020 4955286.440)</td>\n",
       "      <td>692602</td>\n",
       "      <td>[Zhangjiakou]</td>\n",
       "      <td>huai'an</td>\n",
       "      <td>CN</td>\n",
       "      <td>POINT (13249153.399 3973695.262)</td>\n",
       "      <td>193844</td>\n",
       "      <td>[Gaogou, Zhongxing, Baoying]</td>\n",
       "      <td>1075.784635</td>\n",
       "    </tr>\n",
       "    <tr>\n",
       "      <th>12231</th>\n",
       "      <td>dazhou</td>\n",
       "      <td>CN</td>\n",
       "      <td>POINT (11962735.345 3660129.871)</td>\n",
       "      <td>311133</td>\n",
       "      <td>[Jukui, Liangping, Pingjin, Tieqiao, Zhonghe]</td>\n",
       "      <td>linyi</td>\n",
       "      <td>CN</td>\n",
       "      <td>POINT (13173858.009 4172454.052)</td>\n",
       "      <td>509354</td>\n",
       "      <td>[Jiehu, Shizilu, Xiazhuang, Bianzhuang, Sihu, ...</td>\n",
       "      <td>1315.026301</td>\n",
       "    </tr>\n",
       "  </tbody>\n",
       "</table>\n",
       "</div>"
      ],
      "text/plain": [
       "       metro_x country_code_x                        geometry_x  population_x  \\\n",
       "17751  xuanhua             CN  POINT (12808936.020 4955286.440)        692602   \n",
       "12231   dazhou             CN  POINT (11962735.345 3660129.871)        311133   \n",
       "\n",
       "                                            cities_x  metro_y country_code_y  \\\n",
       "17751                                  [Zhangjiakou]  huai'an             CN   \n",
       "12231  [Jukui, Liangping, Pingjin, Tieqiao, Zhonghe]    linyi             CN   \n",
       "\n",
       "                             geometry_y  population_y  \\\n",
       "17751  POINT (13249153.399 3973695.262)        193844   \n",
       "12231  POINT (13173858.009 4172454.052)        509354   \n",
       "\n",
       "                                                cities_y         dist  \n",
       "17751                       [Gaogou, Zhongxing, Baoying]  1075.784635  \n",
       "12231  [Jiehu, Shizilu, Xiazhuang, Bianzhuang, Sihu, ...  1315.026301  "
      ]
     },
     "execution_count": 34,
     "metadata": {},
     "output_type": "execute_result"
    }
   ],
   "source": [
    "crossed[\"metro_x\"] = crossed[\"metro_x\"].str.lower()\n",
    "crossed[\"metro_y\"] = crossed[\"metro_y\"].str.lower()\n",
    "crossed.sample(2)"
   ]
  },
  {
   "cell_type": "code",
   "execution_count": 32,
   "metadata": {},
   "outputs": [
    {
     "name": "stdout",
     "output_type": "stream",
     "text": [
      "9551\n"
     ]
    },
    {
     "data": {
      "text/html": [
       "<div>\n",
       "<style scoped>\n",
       "    .dataframe tbody tr th:only-of-type {\n",
       "        vertical-align: middle;\n",
       "    }\n",
       "\n",
       "    .dataframe tbody tr th {\n",
       "        vertical-align: top;\n",
       "    }\n",
       "\n",
       "    .dataframe thead th {\n",
       "        text-align: right;\n",
       "    }\n",
       "</style>\n",
       "<table border=\"1\" class=\"dataframe\">\n",
       "  <thead>\n",
       "    <tr style=\"text-align: right;\">\n",
       "      <th></th>\n",
       "      <th>station_1</th>\n",
       "      <th>station_2</th>\n",
       "      <th>s1_strip</th>\n",
       "      <th>s2_strip</th>\n",
       "      <th>trains</th>\n",
       "      <th>geometry_x</th>\n",
       "      <th>city1</th>\n",
       "      <th>geometry_y</th>\n",
       "      <th>city2</th>\n",
       "      <th>dist</th>\n",
       "    </tr>\n",
       "  </thead>\n",
       "  <tbody>\n",
       "    <tr>\n",
       "      <th>721</th>\n",
       "      <td>Changchun Railway Station</td>\n",
       "      <td>Beijingnan Railway Station</td>\n",
       "      <td>changchun</td>\n",
       "      <td>beijing</td>\n",
       "      <td>125</td>\n",
       "      <td>POINT Z (13936456.989453055 5446180.397860233 0)</td>\n",
       "      <td>changchun</td>\n",
       "      <td>POINT Z (12954622.78792938 4846115.115672885 0)</td>\n",
       "      <td>beijing</td>\n",
       "      <td>1150.685336</td>\n",
       "    </tr>\n",
       "    <tr>\n",
       "      <th>6160</th>\n",
       "      <td>Shanghaihongqiao Railway Station</td>\n",
       "      <td>Rongcheng Railway Station</td>\n",
       "      <td>shanghaihongqiao</td>\n",
       "      <td>rongcheng</td>\n",
       "      <td>110</td>\n",
       "      <td>POINT Z (13504866.490043916 3658229.2535873577 0)</td>\n",
       "      <td>shanghaihongqiao</td>\n",
       "      <td>POINT Z (13625743.883114694 4459081.466540753 0)</td>\n",
       "      <td>rongcheng</td>\n",
       "      <td>809.923213</td>\n",
       "    </tr>\n",
       "  </tbody>\n",
       "</table>\n",
       "</div>"
      ],
      "text/plain": [
       "                             station_1                   station_2  \\\n",
       "721          Changchun Railway Station  Beijingnan Railway Station   \n",
       "6160  Shanghaihongqiao Railway Station   Rongcheng Railway Station   \n",
       "\n",
       "              s1_strip   s2_strip  trains  \\\n",
       "721          changchun    beijing     125   \n",
       "6160  shanghaihongqiao  rongcheng     110   \n",
       "\n",
       "                                             geometry_x             city1  \\\n",
       "721    POINT Z (13936456.989453055 5446180.397860233 0)         changchun   \n",
       "6160  POINT Z (13504866.490043916 3658229.2535873577 0)  shanghaihongqiao   \n",
       "\n",
       "                                            geometry_y      city2         dist  \n",
       "721    POINT Z (12954622.78792938 4846115.115672885 0)    beijing  1150.685336  \n",
       "6160  POINT Z (13625743.883114694 4459081.466540753 0)  rongcheng   809.923213  "
      ]
     },
     "execution_count": 32,
     "metadata": {},
     "output_type": "execute_result"
    }
   ],
   "source": [
    "print(len(china))\n",
    "china.sample(2)"
   ]
  },
  {
   "cell_type": "code",
   "execution_count": 36,
   "metadata": {},
   "outputs": [],
   "source": [
    "china = china.merge(\n",
    "    crossed[[\"metro_x\", \"population_x\", \"metro_y\", \"population_y\", \"dist\"]],\n",
    "    how=\"inner\",\n",
    "    left_on=[\"city1\", \"city2\"],\n",
    "    right_on=[\"metro_x\", \"metro_y\"]\n",
    ")"
   ]
  },
  {
   "cell_type": "code",
   "execution_count": 39,
   "metadata": {},
   "outputs": [],
   "source": [
    "china = china.drop(\n",
    "    columns={\n",
    "        \"metro_x\",\n",
    "        \"metro_y\",\n",
    "        \"dist_y\"\n",
    "    }\n",
    ").rename(\n",
    "    columns={\n",
    "        \"population_x\": \"pop1\",\n",
    "        \"population_y\": \"pop2\"\n",
    "    }\n",
    ")"
   ]
  },
  {
   "cell_type": "code",
   "execution_count": 40,
   "metadata": {},
   "outputs": [
    {
     "data": {
      "text/html": [
       "<div>\n",
       "<style scoped>\n",
       "    .dataframe tbody tr th:only-of-type {\n",
       "        vertical-align: middle;\n",
       "    }\n",
       "\n",
       "    .dataframe tbody tr th {\n",
       "        vertical-align: top;\n",
       "    }\n",
       "\n",
       "    .dataframe thead th {\n",
       "        text-align: right;\n",
       "    }\n",
       "</style>\n",
       "<table border=\"1\" class=\"dataframe\">\n",
       "  <thead>\n",
       "    <tr style=\"text-align: right;\">\n",
       "      <th></th>\n",
       "      <th>station_1</th>\n",
       "      <th>station_2</th>\n",
       "      <th>s1_strip</th>\n",
       "      <th>s2_strip</th>\n",
       "      <th>trains</th>\n",
       "      <th>geometry_x</th>\n",
       "      <th>city1</th>\n",
       "      <th>geometry_y</th>\n",
       "      <th>city2</th>\n",
       "      <th>dist_x</th>\n",
       "      <th>pop1</th>\n",
       "      <th>pop2</th>\n",
       "    </tr>\n",
       "  </thead>\n",
       "  <tbody>\n",
       "    <tr>\n",
       "      <th>939</th>\n",
       "      <td>Taiyuannan Railway Station</td>\n",
       "      <td>Hangzhoudong Railway Station</td>\n",
       "      <td>taiyuan</td>\n",
       "      <td>hangzhou</td>\n",
       "      <td>111</td>\n",
       "      <td>POINT Z (12532538.008450605 4559660.703318949 0)</td>\n",
       "      <td>taiyuan</td>\n",
       "      <td>POINT Z (13381522.455762453 3541321.759809539 0)</td>\n",
       "      <td>hangzhou</td>\n",
       "      <td>1325.816275</td>\n",
       "      <td>1462546</td>\n",
       "      <td>3888002</td>\n",
       "    </tr>\n",
       "    <tr>\n",
       "      <th>671</th>\n",
       "      <td>Ningbo Railway Station</td>\n",
       "      <td>Hefeinan Railway Station</td>\n",
       "      <td>ningbo</td>\n",
       "      <td>hefei</td>\n",
       "      <td>111</td>\n",
       "      <td>POINT Z (13528989.0397579 3486197.063300542 0)</td>\n",
       "      <td>ningbo</td>\n",
       "      <td>POINT Z (13056105.745874763 3737160.9749078625 0)</td>\n",
       "      <td>hefei</td>\n",
       "      <td>535.351748</td>\n",
       "      <td>3586581</td>\n",
       "      <td>138463</td>\n",
       "    </tr>\n",
       "  </tbody>\n",
       "</table>\n",
       "</div>"
      ],
      "text/plain": [
       "                      station_1                     station_2 s1_strip  \\\n",
       "939  Taiyuannan Railway Station  Hangzhoudong Railway Station  taiyuan   \n",
       "671      Ningbo Railway Station      Hefeinan Railway Station   ningbo   \n",
       "\n",
       "     s2_strip  trains                                        geometry_x  \\\n",
       "939  hangzhou     111  POINT Z (12532538.008450605 4559660.703318949 0)   \n",
       "671     hefei     111    POINT Z (13528989.0397579 3486197.063300542 0)   \n",
       "\n",
       "       city1                                         geometry_y     city2  \\\n",
       "939  taiyuan   POINT Z (13381522.455762453 3541321.759809539 0)  hangzhou   \n",
       "671   ningbo  POINT Z (13056105.745874763 3737160.9749078625 0)     hefei   \n",
       "\n",
       "          dist_x     pop1     pop2  \n",
       "939  1325.816275  1462546  3888002  \n",
       "671   535.351748  3586581   138463  "
      ]
     },
     "execution_count": 40,
     "metadata": {},
     "output_type": "execute_result"
    }
   ],
   "source": [
    "china.sample(2)"
   ]
  },
  {
   "cell_type": "code",
   "execution_count": 41,
   "metadata": {},
   "outputs": [],
   "source": [
    "china.to_csv(\"./data/china_ridership_plus_pop.csv\")"
   ]
  },
  {
   "cell_type": "code",
   "execution_count": 43,
   "metadata": {},
   "outputs": [
    {
     "data": {
      "text/html": [
       "<div>\n",
       "<style scoped>\n",
       "    .dataframe tbody tr th:only-of-type {\n",
       "        vertical-align: middle;\n",
       "    }\n",
       "\n",
       "    .dataframe tbody tr th {\n",
       "        vertical-align: top;\n",
       "    }\n",
       "\n",
       "    .dataframe thead th {\n",
       "        text-align: right;\n",
       "    }\n",
       "</style>\n",
       "<table border=\"1\" class=\"dataframe\">\n",
       "  <thead>\n",
       "    <tr style=\"text-align: right;\">\n",
       "      <th></th>\n",
       "      <th>metro</th>\n",
       "      <th>country_code</th>\n",
       "      <th>geometry</th>\n",
       "      <th>population</th>\n",
       "      <th>cities</th>\n",
       "    </tr>\n",
       "  </thead>\n",
       "  <tbody>\n",
       "    <tr>\n",
       "      <th>465</th>\n",
       "      <td>Rochester</td>\n",
       "      <td>US</td>\n",
       "      <td>POINT (-8640124.616835 5335560.693907)</td>\n",
       "      <td>94273</td>\n",
       "      <td>[Henrietta, Irondequoit]</td>\n",
       "    </tr>\n",
       "    <tr>\n",
       "      <th>455</th>\n",
       "      <td>Louisville</td>\n",
       "      <td>US</td>\n",
       "      <td>POINT (-9546693.851932 4615403.917087)</td>\n",
       "      <td>83692</td>\n",
       "      <td>[Jeffersonville, New Albany]</td>\n",
       "    </tr>\n",
       "  </tbody>\n",
       "</table>\n",
       "</div>"
      ],
      "text/plain": [
       "          metro country_code                                geometry  \\\n",
       "465   Rochester           US  POINT (-8640124.616835 5335560.693907)   \n",
       "455  Louisville           US  POINT (-9546693.851932 4615403.917087)   \n",
       "\n",
       "     population                        cities  \n",
       "465       94273      [Henrietta, Irondequoit]  \n",
       "455       83692  [Jeffersonville, New Albany]  "
      ]
     },
     "execution_count": 43,
     "metadata": {},
     "output_type": "execute_result"
    }
   ],
   "source": [
    "metro = pd.read_parquet(\"./data/metro_regions.parquet\")\n",
    "metro = metro[metro[\"country_code\"] == \"US\"]\n",
    "metro.sample(2)"
   ]
  },
  {
   "cell_type": "code",
   "execution_count": 44,
   "metadata": {},
   "outputs": [
    {
     "name": "stdout",
     "output_type": "stream",
     "text": [
      "EPSG:3857\n"
     ]
    },
    {
     "name": "stderr",
     "output_type": "stream",
     "text": [
      "C:\\Users\\nicho\\AppData\\Local\\Temp\\ipykernel_8860\\3283128325.py:9: UserWarning: CRS mismatch between the CRS of left geometries and the CRS of right geometries.\n",
      "Use `to_crs()` to reproject one of the input geometries to match the CRS of the other.\n",
      "\n",
      "Left CRS: EPSG:3857\n",
      "Right CRS: None\n",
      "\n",
      "  crossed[\"dist\"] = crossed[\"geometry_x\"].distance(crossed[\"geometry_y\"]) / 1000\n"
     ]
    }
   ],
   "source": [
    "crossed = gpd.GeoDataFrame(metro.merge(metro, how=\"cross\"))\n",
    "crossed[\"geometry_x\"] = crossed[\"geometry_x\"].apply(wkt.loads)\n",
    "crossed[\"geometry_y\"] = crossed[\"geometry_y\"].apply(wkt.loads)\n",
    "crossed = crossed.set_geometry(\"geometry_x\")\n",
    "crossed.crs = \"EPSG:3857\"\n",
    "print(crossed.crs)\n",
    "crossed[\"geometry_x\"] = gpd.GeoSeries(crossed[\"geometry_x\"])\n",
    "crossed[\"geometry_y\"] = gpd.GeoSeries(crossed[\"geometry_y\"])\n",
    "crossed[\"dist\"] = crossed[\"geometry_x\"].distance(crossed[\"geometry_y\"]) / 1000\n",
    "crossed = crossed[crossed[\"metro_x\"] != crossed[\"metro_y\"]]"
   ]
  },
  {
   "cell_type": "code",
   "execution_count": 51,
   "metadata": {},
   "outputs": [],
   "source": [
    "crossed = crossed.drop(columns=[\"country_code_x\", \"country_code_y\"]).rename(\n",
    "    columns={\n",
    "        \"metro_x\": \"city1\",\n",
    "        \"metro_y\": \"city2\",\n",
    "        \"population_x\": \"pop1\",\n",
    "        \"population_y\": \"pop2\",\n",
    "    }\n",
    ")"
   ]
  },
  {
   "cell_type": "code",
   "execution_count": 53,
   "metadata": {},
   "outputs": [],
   "source": [
    "crossed.to_csv(\"./data/us_city_pairs.csv\")"
   ]
  }
 ],
 "metadata": {
  "kernelspec": {
   "display_name": "ml-hsr",
   "language": "python",
   "name": "python3"
  },
  "language_info": {
   "codemirror_mode": {
    "name": "ipython",
    "version": 3
   },
   "file_extension": ".py",
   "mimetype": "text/x-python",
   "name": "python",
   "nbconvert_exporter": "python",
   "pygments_lexer": "ipython3",
   "version": "3.11.5"
  }
 },
 "nbformat": 4,
 "nbformat_minor": 2
}
